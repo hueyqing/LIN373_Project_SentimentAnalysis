{
 "cells": [
  {
   "cell_type": "markdown",
   "metadata": {
    "colab_type": "text",
    "id": "view-in-github"
   },
   "source": [
    "<a href=\"https://colab.research.google.com/github/hueyqing/LIN373_Project_SentimentAnalysis/blob/master/SentimentAnalysis_MovieReviews.ipynb\" target=\"_parent\"><img src=\"https://colab.research.google.com/assets/colab-badge.svg\" alt=\"Open In Colab\"/></a>"
   ]
  },
  {
   "cell_type": "markdown",
   "metadata": {},
   "source": [
    "# W A R N I N G ! ! ! ! ! ! ! ! ! ! \n",
    "Re-running our entire notebook will probably take more than 7 hours"
   ]
  },
  {
   "cell_type": "markdown",
   "metadata": {
    "colab_type": "text",
    "id": "cS4FzmyZATOm"
   },
   "source": [
    "\n",
    "# Sentiment Analysis of Text for Moview Review Prediction\n",
    "Project by: Group 8, Tan Huey Qing [ ht7627 ] & Sarang Rastogi [ sr45936 ]<br><br>\n",
    "__GOAL:__<br>\n",
    "To be able to predict the sentiment of movie reviews as accurately as possible<br><br>\n",
    "__WHAT IS SENTIMENT ANALYSIS?__<br>\n",
    "Sentiment Analysis can be defined as the process of computationally determining whether a piece of writing is positive, negative, neutral etc. In context of speech it can be coined as ‘opinion mining’ to derive the opinion or attitude of a speaker. <br><br>\n",
    "__DATA/ RESOURCES:__<br>\n",
    "We have chosen the IMDB dataset of 50k movie reviews from here:<br>\n",
    "https://www.kaggle.com/lakshmi25npathi/imdb-dataset-of-50k-movie-reviews#IMDB%20Dataset.csv<br><br>\n",
    "__MACHINE LEARNING ALGORITHMS/ MODELS:__<br>\n",
    "To study the correlation between the sentiment analysis results and movie review sentiment prediction, we aim to implement algorithms of Naive Bayes, logistic Regression and SVMs depending on the trend the factor we choose displays and find the best model.<br><br>\n",
    "__ACCURACY/ EVALUATION:__\n",
    "We aim to find the accuracy of our sentiment analysis using k-fold cross validation and analysing the accuracy of predictions using multiple classifiers such as neural networks and ensemble methods. "
   ]
  },
  {
   "cell_type": "markdown",
   "metadata": {},
   "source": [
    "# 1. Load Data & General Preprocessing"
   ]
  },
  {
   "cell_type": "code",
   "execution_count": 1,
   "metadata": {},
   "outputs": [],
   "source": [
    "# We appreciate the source below for allowing us to use their dataset. \n",
    "# Licensing information: \n",
    "# @InProceedings{maas-EtAl:2011:ACL-HLT2011,\n",
    "#   author    = {Maas, Andrew L.  and  Daly, Raymond E.  and  Pham, Peter T.  and  Huang, Dan  and  Ng, Andrew Y.  and  Potts, Christopher},\n",
    "#   title     = {Learning Word Vectors for Sentiment Analysis},\n",
    "#   booktitle = {Proceedings of the 49th Annual Meeting of the Association for Computational Linguistics: Human Language Technologies},\n",
    "#   month     = {June},\n",
    "#   year      = {2011},\n",
    "#   address   = {Portland, Oregon, USA},\n",
    "#   publisher = {Association for Computational Linguistics},\n",
    "#   pages     = {142--150},\n",
    "#   url       = {http://www.aclweb.org/anthology/P11-1015}\n",
    "# }"
   ]
  },
  {
   "cell_type": "code",
   "execution_count": 2,
   "metadata": {},
   "outputs": [
    {
     "name": "stderr",
     "output_type": "stream",
     "text": [
      "Using TensorFlow backend.\n"
     ]
    }
   ],
   "source": [
    "## ALL REQUIRED IMPORTS\n",
    "\n",
    "from gensim.models import Word2Vec\n",
    "from gensim.parsing.preprocessing import preprocess_string\n",
    "from gensim.parsing.preprocessing import STOPWORDS\n",
    "from keras import layers\n",
    "from keras.constraints import maxnorm\n",
    "from keras.layers import Dropout\n",
    "from keras.models import Sequential\n",
    "from keras.preprocessing.text import Tokenizer\n",
    "from keras.wrappers.scikit_learn import KerasClassifier\n",
    "from sklearn import metrics\n",
    "from sklearn import svm\n",
    "from sklearn.decomposition import PCA\n",
    "from sklearn.feature_extraction.text import CountVectorizer\n",
    "from sklearn.feature_extraction.text import TfidfVectorizer\n",
    "from sklearn.linear_model import LogisticRegression\n",
    "from sklearn.metrics import classification_report\n",
    "from sklearn.metrics import confusion_matrix\n",
    "from sklearn.metrics import confusion_matrix\n",
    "from sklearn.model_selection import cross_val_predict\n",
    "from sklearn.model_selection import cross_val_score\n",
    "from sklearn.model_selection import GridSearchCV\n",
    "from sklearn.model_selection import train_test_split\n",
    "from sklearn.naive_bayes import MultinomialNB\n",
    "from sklearn.pipeline import make_pipeline\n",
    "from sklearn.pipeline import Pipeline\n",
    "from sklearn.preprocessing import StandardScaler\n",
    "import matplotlib.pyplot as plt\n",
    "import nltk\n",
    "import numpy as np\n",
    "import os\n",
    "import pandas as pd\n",
    "import statistics \n",
    "import tensorflow as tf\n",
    "import time\n",
    "import warnings\n",
    "\n",
    "# !python -m pip install -U keras\n",
    "# !python -m pip install -U tensorflow\n",
    "# !python -m pip install smart-open==1.9.0"
   ]
  },
  {
   "cell_type": "code",
   "execution_count": 3,
   "metadata": {
    "colab": {
     "base_uri": "https://localhost:8080/",
     "height": 255
    },
    "colab_type": "code",
    "id": "b46D9m_SdFrx",
    "outputId": "fda99610-683a-4414-c218-33324f32ebf3"
   },
   "outputs": [
    {
     "name": "stdout",
     "output_type": "stream",
     "text": [
      "                                              review sentiment\n",
      "0  one of the other reviewers has mentioned that ...  positive\n",
      "1  a wonderful little production. <br /><br />the...  positive\n",
      "2  i thought this was a wonderful way to spend ti...  positive\n",
      "3  basically there's a family where a little boy ...  negative\n",
      "4  petter mattei's \"love in the time of money\" is...  positive\n",
      "                                              review  sentiment\n",
      "0  one of the other reviewers has mentioned that ...          1\n",
      "1  a wonderful little production. <br /><br />the...          1\n",
      "2  i thought this was a wonderful way to spend ti...          1\n",
      "3  basically there's a family where a little boy ...          0\n",
      "4  petter mattei's \"love in the time of money\" is...          1\n",
      "Wall time: 1min 48s\n"
     ]
    }
   ],
   "source": [
    "%%time\n",
    "## LOAD DATA & ENCODE POS/NEG TO 1/0\n",
    "\n",
    "df = pd.read_csv('IMDB_Dataset.csv')\n",
    "df[\"review\"] = df[\"review\"].str.lower()\n",
    "print(df.head())\n",
    "\n",
    "for row in range (len(df)):\n",
    "    if (df['sentiment'].iloc[row] == 'positive'):\n",
    "        df['sentiment'].iloc[row] = 1\n",
    "    else:\n",
    "        df['sentiment'].iloc[row] = 0 \n",
    "print (df.head())"
   ]
  },
  {
   "cell_type": "code",
   "execution_count": 4,
   "metadata": {},
   "outputs": [
    {
     "name": "stdout",
     "output_type": "stream",
     "text": [
      "<class 'pandas.core.frame.DataFrame'>\n",
      "RangeIndex: 50000 entries, 0 to 49999\n",
      "Data columns (total 2 columns):\n",
      "review       50000 non-null object\n",
      "sentiment    50000 non-null int64\n",
      "dtypes: int64(1), object(1)\n",
      "memory usage: 781.4+ KB\n",
      "\n",
      "(50000, 2)\n",
      "\n",
      "1    25000\n",
      "0    25000\n",
      "Name: sentiment, dtype: int64\n",
      "\n",
      "Average review length: 1309.43102\n"
     ]
    },
    {
     "data": {
      "image/png": "[encoded data removed]",
      "text/plain": [
       "<Figure size 720x432 with 1 Axes>"
      ]
     },
     "metadata": {
      "needs_background": "light"
     },
     "output_type": "display_data"
    },
    {
     "data": {
      "text/plain": [
       "<Figure size 432x288 with 0 Axes>"
      ]
     },
     "metadata": {},
     "output_type": "display_data"
    }
   ],
   "source": [
    "## ANALYZE DATA\n",
    "\n",
    "df.info()\n",
    "print(\"\\n\" + str(df.shape))\n",
    "print(\"\\n\" + str(df.sentiment.value_counts()))\n",
    "lengths = [len(sample) for sample in list(df['review'])]\n",
    "print(\"\\n\" + \"Average review length: \" + str(statistics.mean(lengths)))\n",
    "plt.figure(figsize=(10, 6))\n",
    "plt.hist([len(sample) for sample in list(df['review'])], 50)\n",
    "plt.xlabel('Length of Movie Reviews')\n",
    "plt.ylabel('Number of Movie Reviews')\n",
    "plt.title('Movie Review length distribution')\n",
    "plt.axis([0, 7000, 0, 14500])\n",
    "plt.show()\n",
    "plt.savefig(\"MovieReviewLengthDistribution\")"
   ]
  },
  {
   "cell_type": "markdown",
   "metadata": {},
   "source": [
    "# 2. Preprocess Data with Train Test Split & Count Vectorizer\n",
    "This is to be used for Naive Bayes and Logistic Regression"
   ]
  },
  {
   "cell_type": "code",
   "execution_count": 5,
   "metadata": {
    "colab": {
     "base_uri": "https://localhost:8080/",
     "height": 1000
    },
    "colab_type": "code",
    "id": "HfhAs-h3PzAw",
    "outputId": "92cd23f2-d589-4c0e-93fc-826e18bf5f79"
   },
   "outputs": [
    {
     "name": "stdout",
     "output_type": "stream",
     "text": [
      "Wall time: 14.8 s\n"
     ]
    }
   ],
   "source": [
    "%%time\n",
    "## PROCESS DATA FOR NB & LR WITH TRAIN TEST SPLIT & VECTORIZER\n",
    "\n",
    "text_data = df.drop(['sentiment'], axis = 1)\n",
    "# print (text_data)\n",
    "labels = df.drop(['review'], axis = 1)\n",
    "# print (labels)\n",
    "docs_train, docs_test, y_train, y_test = train_test_split(text_data, labels, test_size = 0.2, random_state = 1000)\n",
    "# print (docs_train)\n",
    "\n",
    "# vectorize the training data\n",
    "vectorizer = CountVectorizer()\n",
    "X_train = vectorizer.fit_transform(docs_train.review)\n",
    "# print(len(vectorizer.get_feature_names()))\n",
    "# print(vectorizer.get_feature_names()[:1000])\n",
    "# print(X_train[0])"
   ]
  },
  {
   "cell_type": "markdown",
   "metadata": {},
   "source": [
    " ### 2.1 Generate Naive Bayes  Model"
   ]
  },
  {
   "cell_type": "code",
   "execution_count": 6,
   "metadata": {
    "colab": {
     "base_uri": "https://localhost:8080/",
     "height": 229
    },
    "colab_type": "code",
    "id": "0636Wn7wULZo",
    "outputId": "8dbcea84-2316-4bca-fb27-22c761f7a5af"
   },
   "outputs": [
    {
     "name": "stderr",
     "output_type": "stream",
     "text": [
      "C:\\Users\\hueyq\\Anaconda3\\lib\\site-packages\\sklearn\\utils\\validation.py:724: DataConversionWarning: A column-vector y was passed when a 1d array was expected. Please change the shape of y to (n_samples, ), for example using ravel().\n",
      "  y = column_or_1d(y, warn=True)\n"
     ]
    },
    {
     "name": "stdout",
     "output_type": "stream",
     "text": [
      "nb_model accuracy is :  0.8415\n",
      "classification report:\n",
      "               precision    recall  f1-score   support\n",
      "\n",
      "           0       0.82      0.87      0.85      5054\n",
      "           1       0.86      0.81      0.83      4946\n",
      "\n",
      "    accuracy                           0.84     10000\n",
      "   macro avg       0.84      0.84      0.84     10000\n",
      "weighted avg       0.84      0.84      0.84     10000\n",
      "\n",
      "Wall time: 3.74 s\n"
     ]
    }
   ],
   "source": [
    "%%time\n",
    "## NAIVE BAYES MODEL WITH SINGLE TRAIN/TEST/SPLIT\n",
    "\n",
    "# REMEMBER to test out different parameters\n",
    "nb_model = MultinomialNB()\n",
    "nb_model.fit(X_train, y_train)\n",
    "# vectorize the test data and predict \n",
    "X_test = vectorizer.transform(docs_test.review)\n",
    "# print(np.shape(X_test))\n",
    "y_hat_nb = nb_model.predict(X_test)\n",
    "# print (y_hat_nb)\n",
    "probs = []\n",
    "probs = nb_model.predict_proba(X_test)\n",
    "# print (probs)\n",
    "# get accuracy score\n",
    "accuracy_score_nb = metrics.accuracy_score(y_test, y_hat_nb)\n",
    "\n",
    "# print out some data\n",
    "print(\"nb_model accuracy is : \", accuracy_score_nb)\n",
    "print(\"classification report:\\n\", metrics.classification_report(y_test, y_hat_nb))\n",
    "\n",
    "# print(np.shape(X_test))"
   ]
  },
  {
   "cell_type": "code",
   "execution_count": 7,
   "metadata": {},
   "outputs": [
    {
     "name": "stdout",
     "output_type": "stream",
     "text": [
      "Area:  0.9140351330579198\n",
      "TPR(Sensitivity): [0.         0.19187222 0.19227659 ... 0.99979782 1.         1.        ]\n",
      "TNR(Specificity): [1.         0.9908983  0.9908983  ... 0.00356154 0.00356154 0.        ]\n"
     ]
    },
    {
     "data": {
      "image/png": "[encoded data removed]",
      "text/plain": [
       "<Figure size 432x288 with 1 Axes>"
      ]
     },
     "metadata": {
      "needs_background": "light"
     },
     "output_type": "display_data"
    }
   ],
   "source": [
    "## PLOT RESULTS FOR  NAIVE BAYES\n",
    "\n",
    "'''\n",
    "mat = confusion_matrix(X_train, y_train)\n",
    "sns.heatmap(mat.T, square=True, annot=True, fmt='d', cbar=False,\n",
    "            xticklabels=X_train_names, yticklabels=train.target_names)\n",
    "plt.xlabel('true label')\n",
    "plt.ylabel('predicted label');\n",
    "'''\n",
    "\n",
    "probs1 = []\n",
    "fpr, tpr = [], []\n",
    "for i in range (0, len(probs)):\n",
    "    probs1.append(probs[i][1])\n",
    "fpr, tpr, thresholds = metrics.roc_curve(y_test, probs1)\n",
    "score = metrics.roc_auc_score(y_test, probs1)\n",
    "print (\"Area: \", score)\n",
    "\n",
    "# Plotting ROC \n",
    "plt.plot([0,1],[0,1],'k--') #plot the diagonal line\n",
    "plt.plot(fpr, tpr, label='NB') #plot the ROC curve\n",
    "print(\"TPR(Sensitivity): \" + str(tpr))\n",
    "print(\"TNR(Specificity): \" + str(1-fpr))\n",
    "plt.xlabel('False Positive Rate')\n",
    "plt.ylabel('True Positive Rates')\n",
    "plt.title('ROC Curve Naive Bayes')\n",
    "plt.savefig('ROC_nb.png')\n",
    "plt.show()"
   ]
  },
  {
   "cell_type": "code",
   "execution_count": 8,
   "metadata": {},
   "outputs": [
    {
     "name": "stdout",
     "output_type": "stream",
     "text": [
      "Accuracy for Naive Bayes with Cross Validation: 0.8499 (+/- 0.0062)\n"
     ]
    }
   ],
   "source": [
    "## NAIVE BAYES MODEL WITH K-FOLD CROSS VALIDATION\n",
    "\n",
    "nb_xval_model = MultinomialNB()\n",
    "X = vectorizer.fit_transform(df.review)\n",
    "y = df.sentiment\n",
    "nb_xval_scores = cross_val_score(nb_xval_model, X,y, cv=10)\n",
    "\n",
    "print(\"Accuracy for Naive Bayes with Cross Validation: %0.4f (+/- %0.4f)\" % (nb_xval_scores.mean(), nb_xval_scores.std() * 2))"
   ]
  },
  {
   "cell_type": "markdown",
   "metadata": {},
   "source": [
    " ### 2.2 Generate Logistic Regression Model"
   ]
  },
  {
   "cell_type": "code",
   "execution_count": 9,
   "metadata": {},
   "outputs": [
    {
     "name": "stderr",
     "output_type": "stream",
     "text": [
      "C:\\Users\\hueyq\\Anaconda3\\lib\\site-packages\\sklearn\\utils\\validation.py:724: DataConversionWarning: A column-vector y was passed when a 1d array was expected. Please change the shape of y to (n_samples, ), for example using ravel().\n",
      "  y = column_or_1d(y, warn=True)\n",
      "C:\\Users\\hueyq\\Anaconda3\\lib\\site-packages\\sklearn\\linear_model\\sag.py:337: ConvergenceWarning: The max_iter was reached which means the coef_ did not converge\n",
      "  \"the coef_ did not converge\", ConvergenceWarning)\n"
     ]
    },
    {
     "name": "stdout",
     "output_type": "stream",
     "text": [
      "lr_model accuracy is :  0.8814\n",
      "classification report:\n",
      "               precision    recall  f1-score   support\n",
      "\n",
      "           0       0.89      0.87      0.88      5054\n",
      "           1       0.87      0.89      0.88      4946\n",
      "\n",
      "    accuracy                           0.88     10000\n",
      "   macro avg       0.88      0.88      0.88     10000\n",
      "weighted avg       0.88      0.88      0.88     10000\n",
      "\n",
      "Wall time: 49.9 s\n"
     ]
    }
   ],
   "source": [
    "%%time\n",
    "## GENERATE LOGISTIC REGRESSION MODEL WITH SKLEARN\n",
    "\n",
    "text_data = df.drop(['sentiment'], axis = 1)\n",
    "# print (text_data)\n",
    "labels = df.drop(['review'], axis = 1)\n",
    "# print (labels)\n",
    "docs_train, docs_test, y_train, y_test = train_test_split(text_data, labels, test_size = 0.2, random_state = 1000)\n",
    "# print (docs_train)\n",
    "\n",
    "# vectorize the training data\n",
    "vectorizer = CountVectorizer()\n",
    "X_train = vectorizer.fit_transform(docs_train.review)\n",
    "# REMEMBER to test out different parameters\n",
    "lr_model = LogisticRegression(solver = 'saga')\n",
    "lr_model.fit(X_train, y_train)\n",
    "\n",
    "# vectorize the test data and predict \n",
    "X_test = vectorizer.transform(docs_test.review)\n",
    "\n",
    "y_hat_lr = lr_model.predict(X_test)\n",
    "probs_lr = []\n",
    "probs_lr = lr_model.predict_proba(X_test)\n",
    "\n",
    "# get accuracy score\n",
    "accuracy_score_lr = metrics.accuracy_score(y_test, y_hat_lr)\n",
    "\n",
    "# print out some data\n",
    "print(\"lr_model accuracy is : \", metrics.accuracy_score(y_test, y_hat_lr))\n",
    "print(\"classification report:\\n\", metrics.classification_report(y_test, y_hat_lr))\n",
    "\n"
   ]
  },
  {
   "cell_type": "code",
   "execution_count": 10,
   "metadata": {},
   "outputs": [
    {
     "name": "stdout",
     "output_type": "stream",
     "text": [
      "Area:  0.9467277063196652\n",
      "TPR(Sensitivity): [0.00000000e+00 2.02183583e-04 4.79175091e-02 ... 9.99797816e-01\n",
      " 1.00000000e+00 1.00000000e+00]\n",
      "TNR(Specificity): [1.         1.         1.         ... 0.02374357 0.02374357 0.        ]\n"
     ]
    },
    {
     "data": {
      "image/png": "[encoded data removed]",
      "text/plain": [
       "<Figure size 432x288 with 1 Axes>"
      ]
     },
     "metadata": {
      "needs_background": "light"
     },
     "output_type": "display_data"
    }
   ],
   "source": [
    "## PLOT RESULTS FOR LOGISTIC REGRESSION\n",
    "\n",
    "'''mat = confusion_matrix(X_train, y_train)\n",
    "sns.heatmap(mat.T, square=True, annot=True, fmt='d', cbar=False,\n",
    "            xticklabels=X_train_names, yticklabels=train.target_names)\n",
    "plt.xlabel('true label')\n",
    "plt.ylabel('predicted label');'''\n",
    "probs1_lr = []\n",
    "fpr, tpr = [], []\n",
    "for i in range (0, len(probs_lr)):\n",
    "    probs1_lr.append(probs_lr[i][1])\n",
    "fpr, tpr, thresholds = metrics.roc_curve(y_test, probs1_lr)\n",
    "score = metrics.roc_auc_score(y_test, probs1_lr)\n",
    "print (\"Area: \", score)\n",
    "\n",
    "# Plotting ROC \n",
    "plt.plot([0,1],[0,1],'k--') #plot the diagonal line\n",
    "plt.plot(fpr, tpr, label='NB') #plot the ROC curve\n",
    "print(\"TPR(Sensitivity): \" + str(tpr))\n",
    "print(\"TNR(Specificity): \" + str(1-fpr))\n",
    "plt.xlabel('False Positive Rates')\n",
    "plt.ylabel('True Positive Rates')\n",
    "plt.title('ROC Curve Logistic Regression')\n",
    "plt.savefig('ROC_lr.png')\n",
    "plt.show()"
   ]
  },
  {
   "cell_type": "code",
   "execution_count": 11,
   "metadata": {},
   "outputs": [
    {
     "name": "stderr",
     "output_type": "stream",
     "text": [
      "C:\\Users\\hueyq\\Anaconda3\\lib\\site-packages\\sklearn\\linear_model\\sag.py:337: ConvergenceWarning: The max_iter was reached which means the coef_ did not converge\n",
      "  \"the coef_ did not converge\", ConvergenceWarning)\n"
     ]
    },
    {
     "name": "stdout",
     "output_type": "stream",
     "text": [
      "Accuracy for Logistic Regression: 0.8834 (+/- 0.0081)\n"
     ]
    }
   ],
   "source": [
    "## LOGISTIC REGRESSION MODEL WITH K-FOLD CROSS VALIDATION\n",
    "\n",
    "# Try different parameters\n",
    "lr_xval_model = LogisticRegression(random_state = 3, solver = 'saga')\n",
    "X = vectorizer.fit_transform(df.review)\n",
    "y = df.sentiment\n",
    "lr_xval_scores = cross_val_score(lr_xval_model, X,y, cv=10)\n",
    "\n",
    "print(\"Accuracy for Logistic Regression: %0.4f (+/- %0.4f)\" % (lr_xval_scores.mean(), lr_xval_scores.std() * 2))\n"
   ]
  },
  {
   "cell_type": "markdown",
   "metadata": {},
   "source": [
    "### 2.3 Generate Neural Net Model"
   ]
  },
  {
   "cell_type": "code",
   "execution_count": 12,
   "metadata": {},
   "outputs": [
    {
     "name": "stdout",
     "output_type": "stream",
     "text": [
      "88808\n",
      "Model: \"sequential_1\"\n",
      "_________________________________________________________________\n",
      "Layer (type)                 Output Shape              Param #   \n",
      "=================================================================\n",
      "dense_1 (Dense)              (None, 10)                888090    \n",
      "_________________________________________________________________\n",
      "dropout_1 (Dropout)          (None, 10)                0         \n",
      "_________________________________________________________________\n",
      "dense_2 (Dense)              (None, 1)                 11        \n",
      "=================================================================\n",
      "Total params: 888,101\n",
      "Trainable params: 888,101\n",
      "Non-trainable params: 0\n",
      "_________________________________________________________________\n",
      "Train on 36000 samples, validate on 4000 samples\n",
      "Epoch 1/3\n",
      "36000/36000 [==============================] - 67s 2ms/step - loss: 0.3518 - accuracy: 0.8640 - val_loss: 0.2715 - val_accuracy: 0.8945\n",
      "Epoch 2/3\n",
      "36000/36000 [==============================] - 65s 2ms/step - loss: 0.1838 - accuracy: 0.9370 - val_loss: 0.2777 - val_accuracy: 0.8972\n",
      "Epoch 3/3\n",
      "36000/36000 [==============================] - 62s 2ms/step - loss: 0.1162 - accuracy: 0.9618 - val_loss: 0.2806 - val_accuracy: 0.8990\n",
      "Testing Accuracy:  0.8984\n",
      "Wall time: 3min 46s\n"
     ]
    }
   ],
   "source": [
    "%%time\n",
    "## IMPLEMENT NEURAL NETS\n",
    "\n",
    "text_data = df['review'].values\n",
    "labels = df['sentiment'].values \n",
    "\n",
    "docs_train, docs_test, y_train, y_test = train_test_split(text_data, labels, test_size=0.2, random_state=1000)\n",
    "docs_train, docs_val, y_train, y_val = train_test_split(docs_train, y_train, test_size=0.1, random_state=1000)\n",
    "vectorizer = CountVectorizer()\n",
    "X_train = vectorizer.fit_transform(docs_train)\n",
    "X_test = vectorizer.transform(docs_test)\n",
    "X_val = vectorizer.transform(docs_val)\n",
    "\n",
    "input_dim = X_train.shape[1]\n",
    "print(input_dim)\n",
    "nn_model = Sequential()\n",
    "# nn_model.add(layers.Dense(10, input_dim=input_dim, activation='relu', kernel_constraint=maxnorm(3)))\n",
    "nn_model.add(layers.Dense(10, input_dim=input_dim, activation='relu'))\n",
    "nn_model.add(Dropout(0.2))\n",
    "nn_model.add(layers.Dense(1, activation='sigmoid'))\n",
    "\n",
    "nn_model.compile(loss='binary_crossentropy', optimizer='adam', metrics=['accuracy'])\n",
    "nn_model.summary()\n",
    "\n",
    "history = nn_model.fit(X_train, y_train, epochs=3, \n",
    "          validation_data=(X_val, y_val), ## specifying the validation set \n",
    "          batch_size=50)\n",
    "loss, nn_accuracy = nn_model.evaluate(X_test, y_test, verbose=False)\n",
    "print(\"Testing Accuracy:  {:.4f}\".format(nn_accuracy))\n",
    "\n",
    "# NO DROPOUT batchsize= 50, epoch:3, test accuracy 0.8808 with kernel constraint\n",
    "# WITH DROPOUT batchsize= 50, epoch:3, test accuracy 0.8962"
   ]
  },
  {
   "cell_type": "code",
   "execution_count": 13,
   "metadata": {},
   "outputs": [
    {
     "name": "stdout",
     "output_type": "stream",
     "text": [
      "dict_keys(['val_loss', 'val_accuracy', 'loss', 'accuracy'])\n"
     ]
    },
    {
     "data": {
      "image/png": "[encoded data removed]",
      "text/plain": [
       "<Figure size 432x288 with 1 Axes>"
      ]
     },
     "metadata": {
      "needs_background": "light"
     },
     "output_type": "display_data"
    },
    {
     "data": {
      "image/png": "[encoded data removed]",
      "text/plain": [
       "<Figure size 432x288 with 1 Axes>"
      ]
     },
     "metadata": {
      "needs_background": "light"
     },
     "output_type": "display_data"
    }
   ],
   "source": [
    "## PLOT NEURAL NET GRAPHS \n",
    "\n",
    "print(history.history.keys())\n",
    "# summarize history for accuracy\n",
    "plt.plot(history.history['accuracy'])\n",
    "plt.plot(history.history['val_accuracy'])\n",
    "plt.title('model accuracy')\n",
    "plt.ylabel('accuracy')\n",
    "plt.xlabel('epoch')\n",
    "plt.legend(['train', 'validation'], loc='upper left')\n",
    "plt.savefig(\"accuracy_dropout.png\")\n",
    "plt.show()\n",
    "# summarize history for loss\n",
    "plt.plot(history.history['loss'])\n",
    "plt.plot(history.history['val_loss'])\n",
    "plt.title('model loss')\n",
    "plt.ylabel('loss')\n",
    "plt.xlabel('epoch')\n",
    "plt.legend(['train', 'validation'], loc='upper left')\n",
    "plt.savefig(\"loss_dropout.png\")\n",
    "plt.show()"
   ]
  },
  {
   "cell_type": "markdown",
   "metadata": {},
   "source": [
    "### 2.4 Generate Support Vector Machine"
   ]
  },
  {
   "cell_type": "code",
   "execution_count": null,
   "metadata": {},
   "outputs": [
    {
     "name": "stdout",
     "output_type": "stream",
     "text": [
      "dict_keys(['C', 'cache_size', 'class_weight', 'coef0', 'decision_function_shape', 'degree', 'gamma', 'kernel', 'max_iter', 'probability', 'random_state', 'shrinking', 'tol', 'verbose'])\n"
     ]
    }
   ],
   "source": [
    "%%time\n",
    "## GENERATE SVM\n",
    "\n",
    "start_time = time.time()\n",
    "svmachine = svm.SVC(gamma='auto')\n",
    "print (svmachine.get_params().keys())\n",
    "#pipe = Pipeline([('scaler', scaler), ('pca', pca), ('svm', svmachine)])\n",
    "#svmachine.fit(data_X, data_Y)\n",
    "#scores = cross_val_score(svmachine, df[\"review\"], df[\"sentiment\"], cv=2)\n",
    "svm_xval_scores = cross_val_score(svmachine, X, y, cv=2)\n",
    "print(\"Scores:\", svm_xval_scores)\n",
    "print(\"Accuracy:\", svm_xval_scores.mean()*100)\n",
    "print(\"--- %s seconds ---\" % (time.time() - start_time))"
   ]
  },
  {
   "cell_type": "markdown",
   "metadata": {},
   "source": [
    "# 3. Learn Word Embeddings with Word2Vec\n",
    "And use them in models"
   ]
  },
  {
   "cell_type": "code",
   "execution_count": null,
   "metadata": {},
   "outputs": [],
   "source": [
    "%%time\n",
    "## PREPROCESS DATA FOR WORD2VEC\n",
    "\n",
    "sentList = []\n",
    "for review in df[:50000][\"review\"]:\n",
    "    sentences = nltk.sent_tokenize(review)\n",
    "    str1 = ''.join(sentences)\n",
    "    sentences = preprocess_string(str1)\n",
    "    sentList.append(sentences)\n",
    "\n",
    "\"\"\"  \n",
    "from nltk.stem.porter import *\n",
    "from gensim.utils import simple_preprocess\n",
    "words = []\n",
    "for mylist in sentList:    \n",
    "    for myword in mylist:\n",
    "        words.append(myword)\n",
    "print(words)\n",
    "print(\"\\n\")\n",
    "for review in df[:100][\"review\"]:\n",
    "    sentences = nltk.sent_tokenize(review)   \n",
    "print(sentences)\n",
    "for review in df[:10][\"review\"]:\n",
    "    sentences = nltk.sent_tokenize(review)\n",
    "    for sentence in sentences:\n",
    "        tokenized.append(nltk.word_tokenize(sentence))\n",
    "for mylist in tokenized:    \n",
    "    for myword in mylist:\n",
    "        words.append(myword)\n",
    "#print(words)\n",
    "stemmer = PorterStemmer()\n",
    "stems = [stemmer.stem(w) for w in words]\n",
    "print(' '.join(stems))\n",
    "\"\"\""
   ]
  },
  {
   "cell_type": "code",
   "execution_count": null,
   "metadata": {
    "colab": {},
    "colab_type": "code",
    "id": "CZTcUXupPz0B"
   },
   "outputs": [],
   "source": [
    "%%time\n",
    "## GENERATE WORD2VEC MODEL\n",
    "\n",
    "w2v_model = Word2Vec(sentList, size=100,  min_count=2) \n",
    "# change min count later\n",
    "# print(w2v_model)\n",
    "\n",
    "# summarize vocabulary\n",
    "words = list(w2v_model.wv.vocab)\n",
    "print(words)\n",
    "\n",
    "# save model for later in binary format to save space.\n",
    "w2v_model.save('w2v_model_50k.bin')\n",
    "# save non binary to be loaded into other models (?)\n",
    "w2v_model.wv.save_word2vec_format('w2v_50k.txt', binary=False)\n",
    "\n",
    "# to review embedded vector for a specific token:\n",
    "# print(w2v_model.wv[<<INSERT TOKEN>>])\n"
   ]
  },
  {
   "cell_type": "code",
   "execution_count": null,
   "metadata": {},
   "outputs": [],
   "source": [
    "%%time\n",
    "## PLOT WORD2VEC WORD EMBEDDINGS USING PCA\n",
    "\n",
    "warnings.filterwarnings(\"ignore\")\n",
    "\n",
    "# load model\n",
    "w2v_model = Word2Vec.load('w2v_model_50k.bin')\n",
    "print(w2v_model)\n",
    "X = w2v_model[w2v_model.wv.vocab]\n",
    "\n",
    "# fit a 2D PCA model to the vectors\n",
    "pca = PCA(n_components=2)\n",
    "result = pca.fit_transform(X)\n",
    "\n",
    "# create a scatter plot of the projection\n",
    "plt.scatter(result[:, 0], result[:, 1])\n",
    "plt.rcParams[\"figure.figsize\"] = (60,60)\n",
    "plt.plot([-0.1,0.1], [-0.1,0.1])\n",
    "words = list(w2v_model.wv.vocab)\n",
    "for i, word in enumerate(words):\n",
    "    plt.annotate(word, xy=(result[i, 0], result[i, 1]))\n",
    "plt.savefig('w2v_50k.png')\n",
    "plt.show()"
   ]
  },
  {
   "cell_type": "code",
   "execution_count": null,
   "metadata": {},
   "outputs": [],
   "source": [
    "## CHECK OUT FUN RESULTS FROM WORD2VEC MODEL\n",
    "\n",
    "print(str(w2v_model.wv.most_similar(positive = \"funni\", topn = 5)) + \"\\n\") \n",
    "print(str(w2v_model.wv.most_similar(positive = \"director\", topn = 3)) + \"\\n\") \n",
    "print(str(w2v_model.wv.most_similar(positive = ['food', 'bad'], topn = 3)) + \"\\n\")\n",
    "print(str(w2v_model.wv.most_similar(positive = ['woman', 'king'], negative = ['man'], topn = 3)) + \"\\n\")"
   ]
  },
  {
   "cell_type": "markdown",
   "metadata": {},
   "source": [
    "### 3.1 Word2Vec: Effects of Downsampling"
   ]
  },
  {
   "cell_type": "code",
   "execution_count": null,
   "metadata": {},
   "outputs": [],
   "source": [
    "## GENERATE WORD2VEC WITH SMALLER SAMPLE SIZE\n",
    "\n",
    "sentListSmall = []\n",
    "for review in df.sample(n=100)[\"review\"]:\n",
    "    sentencesSmall = nltk.sent_tokenize(review)\n",
    "    str1 = ''.join(sentencesSmall)\n",
    "    sentencesSmall = preprocess_string(str1)\n",
    "    sentListSmall.append(sentencesSmall)\n",
    "\n",
    "w2v_model_small = Word2Vec(sentListSmall, size=100,  min_count=1) \n",
    "XSmall = w2v_model_small[w2v_model_small.wv.vocab]\n",
    "w2v_model_small.save('w2v_model_100.bin')\n",
    "w2v_model_small.wv.save_word2vec_format('w2v_model_100.txt', binary=False)\n"
   ]
  },
  {
   "cell_type": "code",
   "execution_count": null,
   "metadata": {
    "scrolled": true
   },
   "outputs": [],
   "source": [
    "## PLOT AND ANALYZE DOWNSAMPLED W2V\n",
    "\n",
    "warnings.filterwarnings(\"ignore\")\n",
    "w2v_model_small = Word2Vec.load('w2v_model_100.bin')\n",
    "print(w2v_model_small)\n",
    "XSmall = w2v_model_small[w2v_model_small.wv.vocab]\n",
    "\n",
    "# fit a 2D PCA model to the vectors\n",
    "pcaSmall = PCA(n_components=2)\n",
    "resultSmall = pcaSmall.fit_transform(XSmall)\n",
    "\n",
    "# create a scatter plot of the projection\n",
    "plt.scatter(resultSmall[:, 0], resultSmall[:, 1])\n",
    "plt.rcParams[\"figure.figsize\"] = (60,60)\n",
    "# plt.plot([-0.015,0.015], [-0.015,0.015])\n",
    "wordsSmall = list(w2v_model_small.wv.vocab)\n",
    "for i, word in enumerate(wordsSmall):\n",
    "    plt.annotate(word, xy=(resultSmall[i, 0], resultSmall[i, 1]))\n",
    "plt.savefig('w2v_100.png')\n",
    "plt.show()\n",
    "\n",
    "print(str(w2v_model_small.wv.most_similar(positive = \"funni\", topn = 5)) + \"\\n\") \n",
    "print(str(w2v_model_small.wv.most_similar(positive = \"director\", topn = 3)) + \"\\n\") \n",
    "#print(str(w2v_model_small.wv.most_similar(positive = ['food', 'bad'], topn = 3)) + \"\\n\")\n",
    "print(str(w2v_model_small.wv.most_similar(positive = ['woman', 'king'], negative = ['man'], topn = 3)) + \"\\n\")"
   ]
  },
  {
   "cell_type": "markdown",
   "metadata": {},
   "source": [
    " ### 3.2 Word2Vec: Neural Net"
   ]
  },
  {
   "cell_type": "code",
   "execution_count": null,
   "metadata": {},
   "outputs": [],
   "source": [
    "## CREATE EMBEDDING MATRIX \n",
    "\n",
    "text_data = df['review'].values\n",
    "labels = df['sentiment'].values \n",
    "\n",
    "docs_train, docs_test, y_train, y_test = train_test_split(text_data, labels, test_size=0.2, random_state=1000)\n",
    "docs_train, docs_val, y_train, y_val = train_test_split(docs_train, y_train, test_size=0.1, random_state=1000)\n",
    "vectorizer = CountVectorizer()\n",
    "X_train = vectorizer.fit_transform(docs_train)\n",
    "X_test = vectorizer.transform(docs_test)\n",
    "X_val = vectorizer.transform(docs_val)\n",
    "\n",
    "input_dim = X_train.shape[1]\n",
    "print(input_dim)\n",
    "\n",
    "tokenizer = Tokenizer(num_words=5000)\n",
    "tokenizer.fit_on_texts(docs_train) ## ALWAYS run the tokenizer ONLY on the training set\n",
    "vocab_size = len(tokenizer.word_index) + 1  # Adding 1 because of reserved 0 index\n",
    "print(vocab_size)\n",
    "\n",
    "def create_embedding_matrix(filepath, word_index, embedding_dim):\n",
    "    vocab_size = len(word_index) + 1  # Adding again 1 because of reserved 0 index\n",
    "    embedding_matrix = np.zeros((vocab_size, embedding_dim))\n",
    "\n",
    "    with open(filepath, encoding=\"UTF-8\") as f:\n",
    "        for line in f:\n",
    "            word, *vector = line.split()\n",
    "            if word in word_index:\n",
    "                idx = word_index[word] \n",
    "                embedding_matrix[idx] = np.array(\n",
    "                    vector, dtype=np.float32)[:embedding_dim]\n",
    "    return embedding_matrix\n",
    "\n",
    "embedding_dim = 50\n",
    "embedding_matrix = create_embedding_matrix('w2v_50k.txt', tokenizer.word_index, embedding_dim)"
   ]
  },
  {
   "cell_type": "code",
   "execution_count": null,
   "metadata": {},
   "outputs": [],
   "source": [
    "## CHEK HOW MANY OF THE WORDS WE HAVE IN TRAINING ARE IN OUR WORD EMBEDDING\n",
    "\n",
    "nonzero_elements = np.count_nonzero(np.count_nonzero(embedding_matrix, axis=1))\n",
    "print(nonzero_elements / vocab_size)"
   ]
  },
  {
   "cell_type": "code",
   "execution_count": null,
   "metadata": {},
   "outputs": [],
   "source": [
    "maxlen = 88808 \n",
    "model = Sequential()\n",
    "model.add(layers.Embedding(vocab_size, embedding_dim, \n",
    "                           weights=[embedding_matrix], ## specifying the weights\n",
    "                           input_length=maxlen, \n",
    "                           trainable=True))\n",
    "model.add(layers.GlobalAveragePooling1D())\n",
    "model.add(layers.Dense(10, activation='relu'))\n",
    "model.add(layers.Dense(1, activation='sigmoid'))\n",
    "model.compile(optimizer='adam', loss='binary_crossentropy', metrics=['accuracy'])\n",
    "model.summary()"
   ]
  },
  {
   "cell_type": "code",
   "execution_count": null,
   "metadata": {},
   "outputs": [],
   "source": [
    "tf.config.experimental.set_visible_devices([], 'GPU')\n",
    "\n",
    "history = model.fit(X_train, y_train, epochs=10,\n",
    "                    validation_data=(X_val, y_val),\n",
    "                    batch_size=50)\n",
    "loss, nn_w2v_accuracy = model.evaluate(X_test, y_test, verbose=False)\n",
    "print(\"Testing Accuracy:  {:.4f}\".format(nn_w2v_accuracy))"
   ]
  },
  {
   "cell_type": "code",
   "execution_count": null,
   "metadata": {},
   "outputs": [],
   "source": [
    "## PLOT NEURAL NET WITH EMBEDDING GRAPHS \n",
    "\n",
    "print(history.history.keys())\n",
    "# summarize history for accuracy\n",
    "plt.figure(figsize=(10, 6))\n",
    "plt.plot(history.history['accuracy'])\n",
    "plt.plot(history.history['val_accuracy'])\n",
    "plt.title('model accuracy')\n",
    "plt.ylabel('accuracy')\n",
    "plt.xlabel('epoch')\n",
    "plt.legend(['train', 'validation'], loc='upper left')\n",
    "plt.savefig(\"nn_embedding_accuracy.png\")\n",
    "plt.show()\n",
    "# summarize history for loss\n",
    "plt.figure(figsize=(10, 6))\n",
    "plt.plot(history.history['loss'])\n",
    "plt.plot(history.history['val_loss'])\n",
    "plt.title('model loss')\n",
    "plt.ylabel('loss')\n",
    "plt.xlabel('epoch')\n",
    "plt.legend(['train', 'validation'], loc='upper left')\n",
    "plt.savefig(\"nn_embedding_loss.png\")\n",
    "plt.show()"
   ]
  },
  {
   "cell_type": "markdown",
   "metadata": {},
   "source": [
    "# 4. Results of All Models"
   ]
  },
  {
   "cell_type": "code",
   "execution_count": null,
   "metadata": {},
   "outputs": [],
   "source": [
    "print(\"Naive Bayes accuracy: \" + str(accuracy_score_nb))\n",
    "print(\"Naive Bayes Cross Validation accuracy: \" + str(nb_xval_scores.mean()))\n",
    "print(\"Logistic Regression accuracy: \" + str(accuracy_score_lr))\n",
    "print(\"Logistic Regression Cross Validation accuracy: \" + str(lr_xval_scores.mean()))\n",
    "print(\"Neural Net accuracy: \" + str(nn_accuracy))\n",
    "print(\"Neural Net with embeddings accuracy: \" + str(nn_w2v_accuracy))\n",
    "print(\"Support Vector Machine accuracy: \" + str(svm_xval_scores))"
   ]
  }
 ],
 "metadata": {
  "colab": {
   "collapsed_sections": [],
   "include_colab_link": true,
   "name": "SentimentAnalysis_MovieReviews.ipynb",
   "provenance": []
  },
  "kernelspec": {
   "display_name": "Python 3",
   "language": "python",
   "name": "python3"
  },
  "language_info": {
   "codemirror_mode": {
    "name": "ipython",
    "version": 3
   },
   "file_extension": ".py",
   "mimetype": "text/x-python",
   "name": "python",
   "nbconvert_exporter": "python",
   "pygments_lexer": "ipython3",
   "version": "3.7.4"
  }
 },
 "nbformat": 4,
 "nbformat_minor": 1
}
