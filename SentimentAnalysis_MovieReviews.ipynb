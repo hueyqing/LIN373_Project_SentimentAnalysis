{
 "cells": [
  {
   "cell_type": "markdown",
   "metadata": {
    "colab_type": "text",
    "id": "view-in-github"
   },
   "source": [
    "<a href=\"https://colab.research.google.com/github/hueyqing/LIN373_Project_SentimentAnalysis/blob/master/SentimentAnalysis_MovieReviews.ipynb\" target=\"_parent\"><img src=\"https://colab.research.google.com/assets/colab-badge.svg\" alt=\"Open In Colab\"/></a>"
   ]
  },
  {
   "cell_type": "markdown",
   "metadata": {
    "colab_type": "text",
    "id": "cS4FzmyZATOm"
   },
   "source": [
    "\n",
    "# Sentiment Analysis of Text for Moview Review Prediction\n",
    "Project by: Group 8, Tan Huey Qing [ ht7627 ] & Sarang Rastogi [ sr45936 ]<br><br>\n",
    "__GOAL:__<br>\n",
    "To be able to predict the sentiment of movie reviews as accurately as possible<br><br>\n",
    "__WHAT IS SENTIMENT ANALYSIS?__<br>\n",
    "Sentiment Analysis can be defined as the process of computationally determining whether a piece of writing is positive, negative, neutral etc. In context of speech it can be coined as ‘opinion mining’ to derive the opinion or attitude of a speaker. <br><br>\n",
    "__DATA/ RESOURCES:__<br>\n",
    "We have chosen the IMDB dataset of 50k movie reviews from here:<br>\n",
    "https://www.kaggle.com/lakshmi25npathi/imdb-dataset-of-50k-movie-reviews#IMDB%20Dataset.csv<br><br>\n",
    "__MACHINE LEARNING ALGORITHMS/ MODELS:__<br>\n",
    "To study the correlation between the sentiment analysis results and movie review sentiment prediction, we aim to implement algorithms of Naive Bayes, logistic Regression and SVMs depending on the trend the factor we choose displays and find the best model.<br><br>\n",
    "__ACCURACY/ EVALUATION:__\n",
    "We aim to find the accuracy of our sentiment analysis using k-fold cross validation and analysing the accuracy of predictions using multiple classifiers such as neural networks and ensemble methods. "
   ]
  },
  {
   "cell_type": "code",
   "execution_count": 2,
   "metadata": {
    "colab": {
     "base_uri": "https://localhost:8080/",
     "height": 255
    },
    "colab_type": "code",
    "id": "b46D9m_SdFrx",
    "outputId": "fda99610-683a-4414-c218-33324f32ebf3"
   },
   "outputs": [
    {
     "name": "stdout",
     "output_type": "stream",
     "text": [
      "                                              review sentiment\n",
      "0  one of the other reviewers has mentioned that ...  positive\n",
      "1  a wonderful little production. <br /><br />the...  positive\n",
      "2  i thought this was a wonderful way to spend ti...  positive\n",
      "3  basically there's a family where a little boy ...  negative\n",
      "4  petter mattei's \"love in the time of money\" is...  positive\n",
      "                                              review  sentiment\n",
      "0  one of the other reviewers has mentioned that ...          1\n",
      "1  a wonderful little production. <br /><br />the...          1\n",
      "2  i thought this was a wonderful way to spend ti...          1\n",
      "3  basically there's a family where a little boy ...          0\n",
      "4  petter mattei's \"love in the time of money\" is...          1\n",
      "Wall time: 2min 8s\n"
     ]
    }
   ],
   "source": [
    "%%time\n",
    "## load data\n",
    "from sklearn.datasets import load_files\n",
    "from sklearn.model_selection import train_test_split\n",
    "from sklearn.feature_extraction.text import CountVectorizer\n",
    "import pandas as pd\n",
    "\n",
    "# load data using sklearn.datasets.load_files\n",
    "# dataset = load_files(\"IMDB_Dataset.csv\")\n",
    "df = pd.read_csv('IMDB_Dataset.csv')\n",
    "df[\"review\"] = df[\"review\"].str.lower()\n",
    "print(df.head())\n",
    "#print(df['sentiment'].iloc[0])\n",
    "for row in range (len(df)):\n",
    "    if (df['sentiment'].iloc[row] == 'positive'):\n",
    "        df['sentiment'].iloc[row] = 1\n",
    "    else:\n",
    "        df['sentiment'].iloc[row] = 0 \n",
    "\n",
    "print (df.head())"
   ]
  },
  {
   "cell_type": "code",
   "execution_count": 13,
   "metadata": {
    "colab": {
     "base_uri": "https://localhost:8080/",
     "height": 1000
    },
    "colab_type": "code",
    "id": "HfhAs-h3PzAw",
    "outputId": "92cd23f2-d589-4c0e-93fc-826e18bf5f79"
   },
   "outputs": [
    {
     "name": "stdout",
     "output_type": "stream",
     "text": [
      "                                                  review\n",
      "0      one of the other reviewers has mentioned that ...\n",
      "1      a wonderful little production. <br /><br />the...\n",
      "2      i thought this was a wonderful way to spend ti...\n",
      "3      basically there's a family where a little boy ...\n",
      "4      petter mattei's \"love in the time of money\" is...\n",
      "...                                                  ...\n",
      "49995  i thought this movie did a down right good job...\n",
      "49996  bad plot, bad dialogue, bad acting, idiotic di...\n",
      "49997  i am a catholic taught in parochial elementary...\n",
      "49998  i'm going to have to disagree with the previou...\n",
      "49999  no one expects the star trek movies to be high...\n",
      "\n",
      "[50000 rows x 1 columns]\n",
      "       sentiment\n",
      "0              1\n",
      "1              1\n",
      "2              1\n",
      "3              0\n",
      "4              1\n",
      "...          ...\n",
      "49995          1\n",
      "49996          0\n",
      "49997          0\n",
      "49998          0\n",
      "49999          0\n",
      "\n",
      "[50000 rows x 1 columns]\n",
      "                                                  review\n",
      "14446  you could see the final outcome from a mile aw...\n",
      "6570   emilio is a successful business man, a perfect...\n",
      "40329  to make a film straddling the prequels and the...\n",
      "28136  the last wave is never going to win over the m...\n",
      "36952  whoever wrote the screenplay for this movie ob...\n",
      "...                                                  ...\n",
      "48379  if the creators of this film had made any atte...\n",
      "3776   pola x is a beautiful adaption of herman melvi...\n",
      "6215   this movie is very silly and very funny. you c...\n",
      "4695   this movie moved me more than i was expecting,...\n",
      "42419  i spotted the dvd on a store near my home, and...\n",
      "\n",
      "[40000 rows x 1 columns]\n",
      "93033\n"
     ]
    },
    {
     "name": "stdout",
     "output_type": "stream",
     "text": [
      "['00', '000', '0000000000001', '00000001', '00001', '00015', '000dm', '000s', '001', '003830', '006', '0069', '007', '0079', '007s', '0080', '0083', '009', '00am', '00o', '00pm', '00s', '00schneider', '01', '0126', '0148', '01pm', '02', '0230', '03', '039', '04', '041', '044', '05', '050', '06', '0615', '06th', '07', '07b', '08', '089', '08th', '09', '0and', '0f', '0ne', '0r', '0tt', '10', '100', '1000', '10000', '1000000', '10000000000', '10000th', '1000s', '1000th', '1001', '1004', '100b', '100bt', '100ft', '100ibs', '100k', '100m', '100min', '100mins', '100mph', '100s', '100th', '100times', '100x', '100yards', '101', '101st', '102', '102nd', '103', '104', '1040', '1040a', '1040s', '105', '105lbs', '106', '107', '108', '1080', '1080p', '109', '10_', '10am', '10k', '10lines', '10mil', '10mins', '10minutes', '10p', '10pm', '10s', '10star', '10th', '10x', '10yo', '10yrs', '11', '110', '1100', '11001001', '1100ad', '110min', '110mph', '111', '112', '113', '1138', '113min', '113minutes', '114', '1146', '115', '116', '116minutes', '117', '11706', '118', '119', '11am', '11f', '11m', '11th', '11ths', '11yr', '12', '120', '1200', '1200f', '1201', '1202', '120kmph', '121', '122', '123', '12383499143743701', '123k', '124', '1242', '1249', '125', '125m', '127', '128', '12a', '12hr', '12m', '12mm', '12nd', '12p', '12s', '12th', '12x', '12yr', '12yrs', '13', '130', '1300', '130000', '1300s', '131', '1318', '132', '133', '134', '135', '135m', '136', '137', '138', '13848', '139', '13itching', '13k', '13s', '13th', '14', '140', '1408', '140hp', '141', '1415', '1416', '142', '143', '1433421', '145', '1453', '146', '147', '1470', '1473', '148', '149', '1490s', '1492', '14a', '14ieme', '14m', '14s', '14th', '14yr', '14ème', '15', '150', '1500', '15000', '1500b', '1500s', '150_worst_cases_of_nepotism', '150k', '150m', '150th', '151', '152', '153', '1532', '1547', '155', '155ºf', '156', '157', '157th', '158', '1588', '1594', '1596', '1598', '15am', '15apr08', '15ft', '15mins', '15minutes', '15mts', '15pa', '15pm', '15s', '15th', '16', '160', '1600', '1600s', '1602', '1604', '1606', '160lbs', '161', '1610', '1611', '162', '1620', '1621', '163', '164', '1647', '165', '166', '167', '168', '1683', '1690', '1692', '16a', '16b', '16ieme', '16k', '16mm', '16s', '16th', '16x9', '16ème', '16éme', '17', '170', '1700', '1700s', '1701', '1709s', '170x', '171', '1710', '1720', '1740', '175', '1754', '1755', '1758', '1759', '1763', '176th', '177', '1775', '1776', '1780s', '1789', '1790', '1790s', '1792', '1793', '1794', '1798', '17million', '17th', '17yo', '18', '180', '1800', '1800hrs', '1800s', '1801', '1805', '1809', '180d', '180s', '1812', '1813', '1814', '1817', '182', '1820', '1823', '1824', '183', '1830', '1832', '1835', '1836', '1837', '1838', '1839', '1840', '1840s', '1841', '1842', '1844', '1845', '1846', '1847', '185', '1850', '1850s', '1852', '1853', '1854', '1855', '1859', '1860', '1860s', '1861', '1862', '1863', '1864', '1865', '1866', '1868', '1869', '187', '1870', '1870s', '1871', '1872', '1873', '1875', '1876', '1879', '188', '1880', '1880s', '1881', '1882', '1886', '1888', '1889', '188o', '1890', '1890s', '1891', '1892', '1893', '1894', '1895', '1896', '1897', '1898', '1899', '18a', '18s', '18th', '18year', '19', '190', '1900', '1900s', '1901', '1902', '1903', '1904', '1905', '1906', '1907', '1908', '1909', '1910', '1910s', '1911', '1912', '1913', '1914', '1915', '1916', '1917', '1918', '1919', '192', '1920', '1920s', '1921', '1922', '1923', '1924', '1925', '1926', '1927', '1928', '1929', '1930', '1930s', '1931', '1932', '1933', '1934', '1935', '1936', '1937', '1938', '1939', '193o', '194', '1940', '1940s', '1941', '1942', '1943', '1944', '1945', '1946', '1947', '1948', '1949', '195', '1950', '1950ies', '1950s', '1951', '1952', '1953', '1954', '1955', '1956', '1957', '1958', '1959', '196', '1960', '1960s', '1961', '1961s', '1962', '1963', '1964', '1965', '1966', '1967', '1968', '1969', '197', '1970', '1970ies', '1970ish', '1970s', '1971', '1972', '1973', '1974', '1975', '1976', '1977', '1978', '19784444', '1979', '19796', '197o', '197something', '198', '1980', '1980ies', '1980s', '1980sness', '1981', '1982', '1982s', '1983', '1983s', '1984', '1984ish', '1985', '1986', '1987', '1988', '1989', '198os', '199', '1990', '1990s', '1991', '1992', '1993', '1994', '1995', '1995s', '1996', '1997', '1998', '1999', '19sep2009', '19th', '19thc', '19zkkeonjpo', '1am', '1and', '1ch', '1d', '1h', '1h30', '1h40m', '1h53', '1hour', '1hour17min', '1hr', '1m', '1million', '1min', '1mln', '1o', '1point', '1s', '1st', '1ton', '1tv', '1v', '1½', '20', '200', '2000', '20000', '200000', '20001', '2000ad', '2000km', '2000s', '2001', '2002', '2003', '2004', '2004s', '2005', '2006', '20061114', '2007', '2008', '20080107', '2009', '200ft', '200k', '200l', '200th', '200x', '201', '2010', '2011', '2012', '2013', '2017', '2019', '202', '2020', '2021', '2022', '2023', '2024', '2028', '2030', '2031', '2032', '2033', '2035', '2036', '2038', '204', '2040', '2044', '2045', '2046', '2047', '2050', '2054', '2055', '206', '2060', '2069', '2070', '2080', '209', '2090', '20c', '20g', '20ies', '20k', '20m', '20mins', '20minutes', '20pm', '20s', '20th', '20ties', '20year', '20yrs', '21', '210', '2112', '211772166650071408', '2136', '214', '2151', '216', '21699', '21849889', '21849890', '21849907', '219', '21st', '22', '220', '2200', '221', '2210', '22101', '222', '223', '225', '2257', '225mins', '227', '227th', '229', '22d', '22h45', '22m', '22mins', '22nd', '23', '230', '230lbs', '230mph', '231', '232', '233', '234', '2345', '236', '237', '2370bce', '238', '23d', '23rd', '24', '240', '2400', '240z', '241', '2412', '2415', '242', '248', '2480', '249', '24h', '24k', '24m30s', '24mar2001', '24p', '24th', '24years', '24yr', '25', '250', '2500', '2505', '2506', '2525', '25c', '25k', '25million', '25min', '25mins', '25s', '25th', '25year', '25yrs', '26', '260', '2600', '262', '265', '269', '26th', '27', '270', '2700', '272', '273', '2737487', '274', '275', '2772', '278', '27th', '27x41', '28', '280', '285', '288', '28s', '28th', '29', '2900', '2900s', '29s', '29th', '2am', '2c', '2cents', '2cvs', '2d', '2dimensional', '2fast', '2ftm', '2furious', '2gether', '2h', '2h30', '2hour', '2hours', '2hr', '2hrs', '2inch', '2k', '2lb', '2m', '2min', '2months', '2more', '2nd', '2oo4', '2oo5', '2pac', '2pm', '2point4', '2s', '2x', '2x4', '2½', '30', '300', '3000', '3001837218936089620', '300ad', '300lbs', '300mln', '3012', '305', '3064', '30am', '30feet', '30ft', '30i', '30ish', '30k', '30lbs', '30min', '30mins', '30minutes', '30mph', '30pm', '30s', '30something', '30th', '30ties', '30yr', '31', '310', '31st', '32', '320', '320x180', '327', '32nd', '33', '330am', '330mins', '336th', '338', '33bc', '33m', '34', '345', '3462', '34c', '34th', '35', '350', '3500', '351', '3516', '356', '357', '358', '35mins', '35mm', '35pm', '35s', '35th', '35yr', '36', '360', '360s', '362', '36310', '365', '367', '36th', '37', '370', '3714', '372', '372nd', '373', '37449ing', '37ad', '37c', '37pm', '38', '3850', '387', '38k', '38s', '38th', '39', '392', '395', '39811', '39d', '39th', '3am', '3bs', '3d', '3dfx', '3dvd', '3hr', '3k', '3lbs', '3m', '3p', '3p0', '3pm', '3po', '3rd', '3rds', '3s', '3th', '3x', '3x5', '3yrs', '40', '400', '4000', '40000', '400000', '400lb', '406', '409', '40am', '40k', '40kms', '40min', '40mins', '40mph', '40s', '40th', '40yr', '41', '42', '420', '428', '42nd', '43', '430', '44', '440', '4400', '442nd', '44mb', '44megabytes', '44yrs', '45', '450', '4500', '451', '45am', '45ish', '45m', '45min', '45mins', '45pm', '45rpm', '45s', '45th', '46', '460', '465', '47', '475', '47s', '48', '480m', '480p', '48hrs', '49', '498', '49er', '49th', '4am', '4cylinder', '4d', '4eva', '4ever', '4f', '4got', '4h', '4hrs', '4k', '4kids', '4m', '4o', '4out5', '4pm', '4q2', '4th', '4times', '4w', '4ward', '4wd', '4x', '4x100', '4x4', '50', '500', '5000', '500000', '500ad', '500db', '500lbs', '500th', '502', '50cr', '50ft', '50ies', '50ish', '50k', '50m', '50min', '50mins', '50p', '50s', '50th', '50usd', '51', '5150', '517th', '51b', '51st', '52', '5200', '52000', '522', '5223', '5250', '527213', '529', '52s', '53', '531st', '53m', '54', '5400', '540i', '541', '545', '54th', '55', '5539', '555', '557', '55min', '55th', '55yr', '56', '566', '567', '56pm', '57', '571', '576', '578', '58', '588', '58minutes', '58th', '59', '598947', '59th', '5am', '5h', '5hrs', '5ive', '5kph', '5m', '5million', '5min', '5mins', '5os', '5s', '5seconds', '5th', '5x', '5x5', '5years', '5yo', '5yrs', '60', '600', '6000', '605', '607', '608', '60ies', '60ish', '60isms', '60min', '60minutes', '60mph', '60s', '60th', '60ties', '61', '610', '61514', '618', '61st', '62', '620', '62229249', '624', '63', '637', '63rd', '64', '65', '651', '66', '660', '6600f', '666', '66er', '66p', '66th', '67', '6723', '678', '67th', '68', '69', '69ing', '69p', '69th', '6k', '6m', '6million', '6pm', '6th', '6wks', '6yo', '70', '700', '7000', '70000', '700k', '701', '70369862', '707', '70ies', '70km', '70m', '70mm', '70p', '70s', '70th', '70õs', '71', '710', '713', '72', '720', '727', '729', '72nd', '73', '7300', '735', '737', '73min', '74', '740', '740il', '747', '747s', '74sooner', '74th', '75', '750', '75054', '75m', '75min', '76', '7600', '762', '767', '77', '775', '78', '788', '79', '79th', '7c', '7even', '7eventy', '7ft', '7ish', '7m', '7million', '7s', '7th', '7½', '80', '800', '8000', '802', '80ies', '80ish', '80min', '80s', '80yr', '81', '810', '814', '817', '82', '820', '8217', '8230', '83', '837', '83mins', '84', '849', '84f', '84s', '84th', '85', '850', '850pm', '851', '85min', '85mins', '86', '863', '86s', '87', '8700', '8763', '878', '87mins', '87minutes', '88', '881', '886', '88min', '89', '89s', '8bit', '8ftdf', '8k', '8mm', '8o', '8p', '8pm', '8star', '8th', '8u', '8x', '8yrs', '8½', '90', '900', '9000', '900000', '90210', '905', '90ies', '90ish', '90min', '90mins', '90minutes', '90s', '91', '911', '914', '917', '92', '924', '92fs', '92nd', '93', '937', '93mins', '94', '9484', '94s', '94th', '95', '950', '95th', '96', '96th', '97', '970', '974th', '976', '978', '98', '985', '987', '98mins', '98minutes', '99', '998', '999', '9999', '99cent', '99cents', '99p', '99½', '9am', '9do', '9ers', '9is', '9lbs', '9mm', '9of10', '9pm', '9s', '9th', '9ya', '__', '___', '____', '_____', '______', '_______', '________', '_________', '_____________________________', '_____________________________________', '______________________________________', '______________________________________________', '__________________________________________________________________', '___is', '_a', '_absolute', '_absurdism', '_all_', '_almost_', '_am_', '_and_', '_angel_', '_annie_', '_any_', '_anyone_', '_anything_', '_are_', '_arlington', '_as', '_before_', '_blair', '_both_', '_bounce_', '_brice', '_brooklyn_', '_cannon_', '_cave', '_certainly_', '_comedy_', '_compadres', '_could', '_cruel', '_dead_', '_dirty', '_discuss_', '_discussing_', '_divinatory', '_do_', '_dr', '_dying', '_ever_', '_everyone_', '_everything_', '_ex_executives', '_exemplarily', '_extremeley_', '_fantastic_', '_fargo_', '_filmic', '_forever_', '_forrest', '_friend', '_get_', '_glen', '_go', '_have_', '_he_', '_head_', '_her_', '_how_', '_i_', '_inspire_', '_is_', '_king', '_les', '_looks_', '_love_', '_magic_', '_movie_', '_much_', '_my_', '_mystery', '_napolean', '_new', '_next_', '_night', '_not_', '_pay_', '_penetrate_', '_planes', '_possible_', '_real_', '_river_god_', '_saltmen_', '_screaming_', '_shall', '_shock', '_so_', '_so_much_', '_somewhere_', '_starstruck_', '_stranger', '_strictly', '_sung_', '_the', '_the_', '_the_seventh_scroll_', '_the_woman_in_white_', '_then_', '_there', '_they_', '_think_', '_told_', '_tried', '_tuvalu_', '_very_', '_want_', '_waterdance_', '_we', '_whale_', '_won', '_wrong_', '_x', 'a0013', 'a0151', 'a10', 'a2', 'a5zo', 'a666333', 'aa', 'aaa', 'aaaaaaaargh', 'aaaaaaah', 'aaaaaaahhhhhhggg', 'aaaaagh', 'aaaaah', 'aaaaargh', 'aaaaarrrrrrgggggghhhhhh', 'aaaaatch', 'aaaaaw', 'aaaahhhhhh', 'aaaahhhhhhh', 'aaaarrgh', 'aaaawwwwww', 'aaaggghhhhhhh', 'aaagh', 'aaah', 'aaahhhhhhh', 'aaall', 'aaam', 'aaand', 'aaargh', 'aaarrrgh', 'aaaugh', 'aaawwwwnnn', 'aab', 'aachen', 'aada', 'aadha', 'aag', 'aage', 'aah', 'aahe', 'aahhh', 'aahhhh', 'aahing', 'aailiyah', 'aaja', 'aajala', 'aak', 'aakash', 'aake', 'aaker', 'aakrosh', 'aalcc', 'aaliyah', 'aalox', 'aames', 'aamir', 'aamto', 'aan', 'aankh', 'aankhen', 'aaoon', 'aap', 'aapke', 'aapkey', 'aardman', 'aardvarks', 'aarf', 'aargh', 'aarika', 'aaron', 'aarp', 'aashok', 'aasmaan', 'aasman', 'aatish', 'aaton', 'aau', 'aauugghh', 'aavjo', 'aawip', 'aaww', 'ab', 'aback', 'abadi', 'abagail', 'abahy', 'abanazer', 'abandon', 'abandoned', 'abandoning', 'abandonment', 'abandons', 'abanks', 'abashed', 'abashidze', 'abating', 'abattoirs', 'abba', 'abbas', 'abbasi', 'abbey', 'abbie', 'abbot', 'abbots', 'abbott', 'abbotts', 'abbreviated', 'abbreviating', 'abby', 'abbyss', 'abc', 'abcd', 'abcs', 'abd', 'abdalla', 'abderrahmane', 'abdic', 'abdicated', 'abdomen', 'abdominal', 'abdoo', 'abdu', 'abduct', 'abducted', 'abductee', 'abducting', 'abduction', 'abductions', 'abductor', 'abductors', 'abducts', 'abdul', 'abdullah', 'abdulrahman', 'abe', 'abed', 'abedalla', 'abedded', 'abel', 'abell', 'abemethie', 'abercrombie', 'aberdeen', 'abernathie', 'abernethie', 'aberrant', 'aberration', 'aberrations', 'aberystwyth', 'abets', 'abetted', 'abetting', 'abeyance', 'abfab', 'abgail', 'abhay', 'abhays', 'abhi', 'abhijeet', 'abhimaan', 'abhisheh', 'abhishek', 'abhor', 'abhorent', 'abhorred', 'abhorrence', 'abhorrent', 'abhors', 'abi', 'abide', 'abides', 'abiding', 'abigail', 'abigil', 'abilene', 'abilities', 'ability', 'abilityof', 'abingdon', 'abir', 'abishag', 'abishek', 'abit', 'abject', 'abjectly', 'ablaze', 'able', 'abler', 'ablest', 'ablities', 'ably', 'abm', 'abnegated', 'abnegation', 'abner', 'abnormal', 'abnormality', 'abnormally', 'abo', 'aboard', 'abode', 'abodes', 'abolish', 'abolished', 'abolition', 'abolitiongate', 'abolitionism', 'abolitionist', 'abolitionists', 'abominable', 'abominably', 'abominal', 'abomination', 'abominations', 'abominator', 'abominibal', 'abominável', 'abondons', 'aboooot', 'aborigin', 'aboriginal', 'aboriginals', 'aborigine', 'aboriginee', 'aborigines', 'aboriginies', 'aborigins', 'aborigone', 'abort', 'aborted', 'aborting', 'abortion', 'abortionist', 'abortionists', 'abortions', 'abortive', 'aborts', 'abos', 'abott', 'abou', 'abound', 'abounded', 'abounding', 'abounds', 'about', 'aboutagirly', 'aboutboul', 'abouts', 'above', 'abovementioned', 'abra', 'abracadabrantesque', 'abraham', 'abrahamic', 'abrahams', 'abrahimi', 'abrahms', 'abram', 'abrams', 'abrasions', 'abrasive', 'abrasiveness', 'abrazo', 'abre', 'abreast', 'abrhám', 'abridge', 'abridged', 'abridgement', 'abridging', 'abrigado', 'abril', 'abroad', 'abromowitz', 'abrupt', 'abruptly', 'abruptness', 'abs', 'absalom', 'abscessed', 'abscond', 'absconded', 'absconding', 'abseiling', 'absence', 'absences', 'absense', 'absent', 'absentee', 'absenteeism', 'absentia', 'absentminded', 'absentmindedly', 'absinthe', 'abskani', 'absolom', 'absoloutely', 'absolument', 'absolute', 'absolutely', 'absoluter', 'absolutey', 'absolution', 'absolutism', 'absolutlely', 'absolutley', 'absolutly', 'absolve', 'absolved', 'absolves', 'absorb', 'absorbe', 'absorbed', 'absorbent', 'absorbing', 'absorbingly', 'absorbs', 'absorption', 'absoulely', 'absoulutley', 'absoutely', 'absoutley', 'abstain', 'abstained', 'abstains', 'abstinence', 'abstract', 'abstracted', 'abstracting', 'abstraction', 'abstractions', 'abstracts', 'abstruse', 'absurd', 'absurder', 'absurdest', 'absurdism', 'absurdist', 'absurdities', 'absurdity', 'absurdité', 'absurdly', 'absurdness', 'absurdum', 'abu', 'abuelita', 'abuelo', 'abuhab', 'abunch', 'abundance', 'abundant', 'abundantly', 'abuse', 'abused', 'abuser', 'abusers', 'abuses', 'abusing', 'abusive', 'abusively', 'abut', 'abutted', 'abuttment', 'abuzz', 'abvious', 'aby', 'abydos', 'abysmal', 'abysmally', 'abyss', 'abysymal', 'ac', 'acacia', 'acadamy', 'academe', 'academeny', 'academia', 'academian', 'academic', 'academically', 'academics', 'academies', 'academy', 'acadian', 'acadiana', 'acapella', 'acapulco', 'acc', 'accede', 'acceded', 'accedes', 'accelerant', 'accelerate', 'accelerated', 'accelerates', 'accelerati', 'accelerating', 'acceleration', 'accelerator', 'accent', 'accented', 'accents', 'accentuate', 'accentuated', 'accentuates', 'accentuating', 'accentuation', 'accept', 'acceptability', 'acceptable', 'acceptably', 'acceptance', 'acceptances', 'acceptation', 'accepted', 'acceptence', 'accepting', 'acceptingly', 'accepts', 'accesible', 'access', 'accessabilty', 'accessed', 'accessibility', 'accessible', 'accession', 'accessories', 'accessorizing', 'accessory', 'accidence', 'accident', 'accidental', 'accidentally', 'accidentee', 'accidentially', 'accidently', 'accidents', 'acclaied', 'acclaim', 'acclaimed', 'acclaims', 'acclamation', 'acclimate', 'acclimation', 'acclimatisation', 'accolade', 'accoladed', 'accolades', 'accommodate', 'accommodated', 'accommodates', 'accommodating', 'accommodation', 'accommodations', 'accomodates', 'accomodations', 'accompagnied', 'accompanied', 'accompanies', 'accompaniment', 'accompanist', 'accompany', 'accompanying', 'accomplice', 'accomplices', 'accomplish', 'accomplished', 'accomplishes', 'accomplishing', 'accomplishment', 'accomplishments', 'accord', 'accordance', 'accorded', 'accordian', 'according', 'accordingly', 'accordion', 'accords', 'accorsi', 'accoss', 'accost', 'accosted', 'accosts', 'account', 'accountability', 'accountable', 'accountancy', 'accountant', 'accountants', 'accounted', 'accounting', 'accounts', 'accouterments', 'accoutrements', 'accowmplished', 'accredited', 'accrued', 'accrutements', 'acct', 'acculturation', 'accumulate', 'accumulated', 'accumulates', 'accumulating', 'accumulation', 'accuracies', 'accuracy', 'accurate', 'accurately', 'accursed', 'accusation', 'accusations', 'accusatory', 'accuse', 'accused', 'accuser', 'accusers', 'accuses', 'accusing', 'accussation', 'accussed', 'accustomed', 'accutely', 'acczent', 'acd', 'ace', 'aced', 'acedemy', 'acedmy', 'acerbic', 'acerbity', 'aces', 'acetylene', 'aceves', 'ach', 'achaar', 'achad', 'achala', 'acharya', 'achcha', 'ache', 'ached', 'acheived', 'achenbach', 'aches', 'achievable', 'achieve', 'achieved', 'achieveing', 'achievement', 'achievements', 'achiever', 'achievers', 'achieves', 'achieving', 'achille', 'achilleas', 'achilles', 'achillies', 'aching', 'achingly', 'achmed', 'acholoic', 'achoo', 'achra', 'achronological', 'achterbusch', 'acid', 'acidently', 'acidic', 'acidified', 'acidity', 'acidly', 'acids', 'acidy', 'acin', 'acing', 'aciton', 'ack', 'acker', 'ackerman', 'ackland', 'acknowledge', 'acknowledged', 'acknowledgement', 'acknowledgements', 'acknowledges', 'acknowledging', 'acknowledgment', 'ackos', 'ackroyd', 'ackward', 'acl', 'aclaim', 'aclear', 'aclu', 'acme', 'acmetropolis', 'acmi', 'acne', 'acolyte', 'acolytes', 'acomplication', 'acording', 'acorn', 'acorns', 'acosta', 'acoustic', 'acoustics', 'acp', 'acquaint', 'acquaintaces', 'acquaintance', 'acquaintances', 'acquainted', 'acquaints', 'acquart', 'acquiesce', 'acquiescence', 'acquire', 'acquired', 'acquires', 'acquiring', 'acquisition', 'acquisitions', 'acquisitive', 'acquit', 'acquitane', 'acquits', 'acquittal', 'acquittance', 'acquitted', 'acre', 'acreage', 'acres', 'acrid', 'acrimonious', 'acrimony', 'acrobat', 'acrobatic', 'acrobatics', 'acrobats', 'acrobatty', 'acromegaly', 'acronym', 'acronymic', 'acropolis', 'across', 'acroyd', 'acrylic', 'acs', 'act', 'actally', 'acte', 'acted', 'actelone', 'actess', 'acteurs_', 'actin', 'acting', 'actingjob', 'actings', 'actingwise', 'action', 'action_detail', 'actioned', 'actioneer', 'actioneers', 'actioner', 'actioners', 'actionless', 'actionmovie', 'actionpacked', 'actions', 'actionscenes', 'actionsequences', 'actium', 'activate', 'activated', 'activates', 'activating', 'activator', 'active', 'actively', 'actives', 'activision', 'activism', 'activist', 'activists', 'activities', 'activity', 'actor', 'actores', 'actorly', 'actors', 'actra', 'actress', 'actresses', 'actriss', 'acts', 'actual', 'actualities', 'actuality', 'actualization', 'actualize', 'actuall', 'actually', 'actualy', 'actuators', 'actuelly', 'actully', 'acual', 'acually', 'acuff', 'acuhu', 'acuity', 'acumen', 'acuna', 'acupat', 'acurately', 'acus', 'acute', 'acutely', 'acuteness', 'ad', 'ada', 'adabted', 'adachi', 'adage', 'adagietto', 'adagio', 'adah', 'adair', 'adajani', 'adalbert', 'adam', 'adama', 'adamant', 'adamantium', 'adamantly', 'adamason', 'adames', 'adamfontaine', 'adamic', 'adamos', 'adams', 'adamson', 'adamsons', 'adante', 'adapt', 'adaptable', 'adaptaion', 'adaptation', 'adaptations', 'adapted', 'adapter', 'adapters', 'adapting', 'adaption', 'adaptions', 'adaptor', 'adapts', 'adarsh', 'adas', 'aday', 'adays', 'adcox', 'add', 'addam', 'addams', 'addario', 'added', 'addendum', 'adder', 'addict', 'addicted', 'addicted2you', 'addicting', 'addiction', 'addictions', 'addictive', 'addicts', 'addie', 'adding', 'addio', 'addison', 'addition', 'additionaally', 'additional', 'additionally', 'additions', 'additon', 'addle', 'addled', 'addons', 'address', 'addressed', 'addresses', 'addressing', 'adds', 'addtionally', 'addy', 'addytown', 'ade', 'adebesi', 'adebisi', 'adela', 'adelade', 'adelaide', 'adelawale', 'adele', 'adelightful', 'adelin', 'adeline', 'adell', 'adelle', 'ademir', 'aden', 'adenine', 'adenoid', 'adenoidal', 'adentro', 'adeosun', 'adept', 'adeptly', 'adeptness', 'adequacy', 'adequate', 'adequately', 'adequtely', 'adetokumboh', 'adevent', 'adeventures', 'adgth', 'adgth2', 'adhd', 'adherance', 'adhere', 'adhered', 'adherence', 'adherent', 'adherents', 'adheres', 'adhering', 'adhesive', 'adhesives', 'adhura', 'adi', 'adibah', 'adibisi', 'adicts', 'adidas', 'adien', 'adieu', 'adios', 'aditi', 'aditiya', 'aditya', 'adivl', 'adj', 'adjacent', 'adjani', 'adjective', 'adjectives', 'adjl', 'adjoining', 'adjoins', 'adjournment', 'adjunct', 'adjurdubois', 'adjust', 'adjusted', 'adjuster', 'adjustin', 'adjusting', 'adjustment', 'adjustments', 'adjusts', 'adjutant', 'adkins', 'adl', 'adle', 'adler', 'adm', 'adman', 'admarible', 'admin', 'administer', 'administered', 'administering', 'administers', 'administration', 'administrations', 'administrative', 'administrator', 'administrators', 'admins', 'adminsitrative', 'admira', 'admirable', 'admirably', 'admiral', 'admiralty', 'admiration', 'admire', 'admired', 'admirer', 'admirers', 'admires', 'admiring', 'admiringly', 'admissible', 'admission', 'admissions', 'admit', 'admite', 'admitedly', 'admits', 'admitt', 'admittably', 'admittadly', 'admittance', 'admitted', 'admittedly', 'admitting', 'admittingly', 'admixture', 'admonish', 'admonishes', 'admonishing', 'admonishment', 'admonition', 'adnan', 'adnausem', 'adness', 'adnum', 'ado', 'adobe', 'adolescence', 'adolescent', 'adolescents', 'adolf', 'adolfo', 'adolph', 'adolphe', 'adon', 'adone', 'adoni', 'adonijah', 'adonis', 'adoor', 'adopt', 'adopted', 'adoptee', 'adoptees', 'adopting', 'adoption', 'adoptions', 'adoptive', 'adopts', 'adorable', 'adorably', 'adoration', 'adore', 'adored', 'adoree', 'adores', 'adorf', 'adorible', 'adoring', 'adoringly', 'adorn', 'adorned', 'adorning', 'adorns', 'adotped', 'adp', 'adr', 'adrenalin', 'adrenaline', 'adreon', 'adressed', 'adri', 'adrian', 'adriana', 'adrianne', 'adriano', 'adriatic', 'adrien', 'adrienne', 'adriensen', 'adrift', 'adroit', 'adroitly', 'adroitness', 'ads', 'adsbreaks', 'adt', 'adulating', 'adulation', 'adulhood', 'adult', 'adulterated', 'adulterating', 'adulterer', 'adulterers', 'adulteress', 'adulteries', 'adulterous', 'adultery', 'adulthood', 'adultism', 'adultry', 'adults', 'adv', 'advan', 'advance', 'advanced', 'advancement', 'advancements', 'advances', 'advancing', 'advani', 'advantage', 'advantaged', 'advantageous', 'advantages', 'advent', 'adventist', 'adventists', 'adventitious', 'adventure', 'adventured', 'adventurer', 'adventurers', 'adventures', 'adventuresome', 'adventuring', 'adventurios', 'adventurous', 'adventurously', 'adventurousness', 'adversarial', 'adversaries', 'adversary', 'adverse', 'adversely', 'adversion', 'adversities', 'adversity', 'advert', 'adverterous', 'advertise', 'advertised', 'advertisement', 'advertisements', 'advertisers', 'advertises', 'advertising', 'advertized', 'adverts', 'adverture', 'advice', 'advices', 'advisable', 'advise', 'advised', 'advisedly', 'advisement', 'adviser', 'advisers', 'advises', 'advising', 'advision', 'advisor', 'advisories', 'advisors', 'advisory', 'advocacy', 'advocate', 'advocated', 'advocates', 'advocating', 'ady', 'adèle', 'ae', 'aegis', 'aeka', 'aelita', 'aeneas', 'aeneid', 'aeon', 'aeons', 'aerial', 'aerialist', 'aerials', 'aeris', 'aerky', 'aero', 'aerobatics', 'aerobic', 'aerobicide', 'aerobicized', 'aerobics', 'aerodrome', 'aerodynamics', 'aeronautical', 'aeroplane', 'aeroplanes', 'aerosmith', 'aerosol', 'aerospace', 'aerun', 'aeryn', 'aeschylus', 'aesir', 'aesop', 'aestheically', 'aesthete', 'aesthetic', 'aesthetical', 'aesthetically', 'aestheticism', 'aesthetics', 'aetherial', 'aetv', 'af', 'af2a', 'afaik', 'afair', 'afar', 'afb', 'afer', 'afew', 'aff07', 'affability', 'affable', 'affably', 'affair', 'affaire', 'affairs', 'affect', 'affectation', 'affectations', 'affected', 'affectedly', 'affecting', 'affectingly', 'affection', 'affectionate', 'affectionately', 'affectionnates', 'affections', 'affective', 'affects', 'affectts', 'affiar', 'afficinados', 'afficionado', 'afficionados', 'affiliate', 'affiliated', 'affiliates', 'affiliation', 'affiliations', 'affine', 'affinity', 'affinité', 'affirm', 'affirmation', 'affirmations', 'affirmative', 'affirmatively', 'affirmed', 'affirming', 'affirms', 'affix', 'affixed', 'affleck', 'afflecks', 'afflect', 'afflict', 'afflicted', 'afflicting', 'affliction', 'afflictions', 'affluence', 'affluent', 'afford', 'affordable', 'afforded', 'affording', 'affords', 'affront', 'affronted', 'affronts', 'affter', 'afgahnistan', 'afgan', 'afganistan', 'afganskiy', 'afghan', 'afghanastan', 'afghani', 'afghanistan', 'afghans', 'afghansitan', 'afhanskii', 'afhganistan', 'afi', 'afican', 'aficionado', 'aficionados', 'afictionado', 'afield', 'afilm', 'afirming', 'afl', 'aflac', 'aflame', 'aflec', 'afleck', 'afloat', 'afm', 'afonya', 'afoot', 'afore', 'aforementioned', 'aforesaid', 'aforethought', 'aformentioned', 'afortunately', 'afoul', 'afraid', 'afreen', 'afresh', 'africa', 'africaans', 'african', 'africanism', 'africans', 'afrika', 'afrikaaner', 'afrikaaners', 'afrikaans', 'afrikaner', 'afrikanerdom', 'afrikaners', 'afrikkaner', 'afro', 'afroamerican', 'afroreggae', 'afros', 'afrovideo', 'aft', 'aftab', 'after', 'afterall', 'afterbirth', 'aftereffects', 'afterglow', 'afterlife', 'aftermath', 'afternnon', 'afternoon', 'afternoons', 'afterschool', 'aftershock', 'aftershocks', 'afterstory', 'aftertaste', 'afterthought', 'afterthoughts', 'afterward', 'afterwards', 'afterwhich', 'afterwhile', 'afterword', 'afterwords', 'afterworld', 'afther', 'aftra', 'afv', 'ag', 'agaaaain', 'again', 'again1', 'against', 'againéafter', 'agamemnon', 'agape', 'agar', 'agashe', 'agatha', 'agbayani', 'age', 'aged', 'agee', 'ageing', 'ageism', 'ageless', 'agena', 'agencies', 'agency', 'agenda', 'agendas', 'agent', 'agents', 'ager', 'agers', 'ages', 'agey', 'aggelopoulos', 'aggh', 'aggie', 'aggies', 'aggrandizement', 'aggrandizing', 'aggrapina', 'aggravate', 'aggravated', 'aggravates', 'aggravating', 'aggravatingly', 'aggravation', 'aggree', 'aggregate', 'aggresive', 'aggressed', 'aggression', 'aggressive', 'aggressively', 'aggressiveness', 'aggressor', 'aggressors', 'aggrieved', 'aggrivating', 'aggro', 'agh', 'agha', 'aghashe', 'aghast', 'aghhh', 'aghhhhhh', 'agi', 'agian', 'agile', 'agility', 'agin', 'aging', 'agirl', 'agis', 'agit', 'agitated', 'agitation', 'agitator', 'agitators', 'agitprop', 'aglae', 'agless', 'agliff', 'aglow', 'agneepath', 'agnes', 'agnew', 'agnieszka', 'agniezska', 'agnostic', 'agnosticism', 'agnus', 'agnès', 'ago', 'agog', 'agoglia', 'agonia', 'agonies', 'agonise', 'agonising', 'agonisingly', 'agonize', 'agonized', 'agonizes', 'agonizing', 'agonizingly', 'agony', 'agoraphobic', 'agost', 'agostina', 'agostini', 'agostino', 'agra', 'agrama', 'agrandizement', 'agrarian', 'agrawal', 'agreat', 'agree', 'agreeability', 'agreeable', 'agreeably', 'agreed', 'agreeing', 'agreement', 'agreements', 'agrees', 'agren', 'agressive', 'agressor', 'agricultural', 'agriculture', 'agrippina', 'agro', 'aground', 'agua', 'aguayo', 'aguila', 'aguilar', 'aguiler', 'aguilera', 'aguirre', 'aguirresarobe', 'agullaria', 'agusti', 'agustin', 'agustus', 'agustí', 'agutter', 'agyeman', 'ah', 'ah56a', 'aha', 'ahab', 'ahah', 'ahahahah', 'ahahahahahhahahahahahahahahahhahahahahahahah', 'ahahhahahaha', 'ahalf', 'ahamad', 'ahamd', 'ahcnakdjh', 'ahead', 'ahearne', 'ahehehe', 'ahem', 'ahenobarbus', 'ahern', 'aherne', 'ahet', 'ahh', 'ahhh', 'ahhhh', 'ahhhhh', 'ahhhhhh', 'ahhhhhhh', 'ahhhhhhhhhhhhhhhhhhhhhhhhhhh', 'ahista', 'ahistorical', 'ahlberg', 'ahlstedt', 'ahmad', 'ahmed', 'ahmedabad', 'ahn', 'ahna', 'ahold', 'ahould', 'ahoy', 'aht', 'ahu', 'ahum', 'ahuntin', 'ai', 'aic', 'aice', 'aicha', 'aicn', 'aid', 'aida', 'aidan', 'aide', 'aided', 'aiden', 'aides', 'aiding', 'aids', 'aidsssss', 'aiee', 'aiello', 'aielo', 'aihara', 'aiiii', 'aikawa', 'aiken', 'aikens', 'aikido', 'aikidoist', 'ailed', 'aileen', 'aileron', 'ailes', 'ailing', 'ailleurs', 'ailment', 'ailments', 'ails', 'ailtan', 'ailton', 'aim', 'aimable', 'aimanov', 'aimants', 'aime', 'aimed', 'aimee', 'aiming', 'aimless', 'aimlessly', 'aimlessness', 'aims', 'aimée', 'ain', 'aina', 'ainley', 'ainsworth', 'aint', 'aintry', 'aip', 'air', 'airbag', 'airbags', 'airball', 'airborne', 'airbrushed', 'airbus', 'aircraft', 'aircrafts', 'aircrew', 'airdate', 'aire', 'aireals', 'aired', 'aires', 'airfield', 'airforce', 'airhead', 'airheaded', 'airheads', 'airhostess', 'airial', 'airily', 'airing', 'airless', 'airlessness', 'airlie', 'airlift', 'airlifted', 'airline', 'airliner', 'airliners', 'airlines', 'airlock', 'airmail', 'airman', 'airmen', 'airphone', 'airplane', 'airplanes', 'airplay', 'airport', 'airports', 'airs', 'airscrew', 'airshafts', 'airship', 'airships', 'airsick', 'airsoft', 'airsofts', 'airspace', 'airspeed', 'airstation', 'airstrike', 'airstrip']\n"
     ]
    },
    {
     "name": "stdout",
     "output_type": "stream",
     "text": [
      "  (0, 92318)\t3\n",
      "  (0, 18754)\t1\n",
      "  (0, 72799)\t1\n",
      "  (0, 82338)\t17\n",
      "  (0, 30443)\t1\n",
      "  (0, 59149)\t1\n",
      "  (0, 32337)\t2\n",
      "  (0, 53120)\t1\n",
      "  (0, 6567)\t1\n",
      "  (0, 3347)\t1\n",
      "  (0, 74762)\t1\n",
      "  (0, 90134)\t1\n",
      "  (0, 82455)\t1\n",
      "  (0, 64685)\t4\n",
      "  (0, 48391)\t2\n",
      "  (0, 29570)\t1\n",
      "  (0, 69215)\t1\n",
      "  (0, 23774)\t1\n",
      "  (0, 58128)\t3\n",
      "  (0, 29942)\t1\n",
      "  (0, 34750)\t2\n",
      "  (0, 17021)\t1\n",
      "  (0, 31460)\t4\n",
      "  (0, 72670)\t1\n",
      "  (0, 87482)\t1\n",
      "  :\t:\n",
      "  (0, 81080)\t1\n",
      "  (0, 62517)\t1\n",
      "  (0, 25426)\t1\n",
      "  (0, 13676)\t1\n",
      "  (0, 58455)\t1\n",
      "  (0, 80235)\t1\n",
      "  (0, 90773)\t1\n",
      "  (0, 7967)\t1\n",
      "  (0, 48041)\t1\n",
      "  (0, 82290)\t1\n",
      "  (0, 4682)\t1\n",
      "  (0, 26537)\t1\n",
      "  (0, 74393)\t1\n",
      "  (0, 46466)\t1\n",
      "  (0, 63088)\t1\n",
      "  (0, 57353)\t1\n",
      "  (0, 44876)\t1\n",
      "  (0, 80936)\t1\n",
      "  (0, 58449)\t1\n",
      "  (0, 53408)\t1\n",
      "  (0, 90534)\t1\n",
      "  (0, 5181)\t1\n",
      "  (0, 47382)\t1\n",
      "  (0, 20446)\t1\n",
      "  (0, 44027)\t1\n"
     ]
    }
   ],
   "source": [
    "# split the data into train and test\n",
    "\n",
    "text_data = df.drop(['sentiment'], axis = 1)\n",
    "print (text_data)\n",
    "labels = df.drop(['review'], axis = 1)\n",
    "print (labels)\n",
    "docs_train, docs_test, y_train, y_test = train_test_split(text_data, labels, test_size = 0.2, random_state = 1000)\n",
    "print (docs_train)\n",
    "\n",
    "# vectorize the training data\n",
    "vectorizer = CountVectorizer()\n",
    "X_train = vectorizer.fit_transform(docs_train.review)\n",
    "print(len(vectorizer.get_feature_names()))\n",
    "print(vectorizer.get_feature_names()[:3000])\n",
    "print(X_train[0])"
   ]
  },
  {
   "cell_type": "code",
   "execution_count": 4,
   "metadata": {
    "colab": {
     "base_uri": "https://localhost:8080/",
     "height": 229
    },
    "colab_type": "code",
    "id": "0636Wn7wULZo",
    "outputId": "8dbcea84-2316-4bca-fb27-22c761f7a5af"
   },
   "outputs": [
    {
     "name": "stderr",
     "output_type": "stream",
     "text": [
      "C:\\Users\\hueyq\\Anaconda3\\lib\\site-packages\\sklearn\\utils\\validation.py:724: DataConversionWarning: A column-vector y was passed when a 1d array was expected. Please change the shape of y to (n_samples, ), for example using ravel().\n",
      "  y = column_or_1d(y, warn=True)\n"
     ]
    },
    {
     "name": "stdout",
     "output_type": "stream",
     "text": [
      "nb_model accuracy is :  0.8415\n",
      "classification report:\n",
      "               precision    recall  f1-score   support\n",
      "\n",
      "           0       0.82      0.87      0.85      5054\n",
      "           1       0.86      0.81      0.83      4946\n",
      "\n",
      "    accuracy                           0.84     10000\n",
      "   macro avg       0.84      0.84      0.84     10000\n",
      "weighted avg       0.84      0.84      0.84     10000\n",
      "\n"
     ]
    }
   ],
   "source": [
    "## create naive bayes model\n",
    "\n",
    "from sklearn.naive_bayes import MultinomialNB\n",
    "from sklearn import metrics\n",
    "from sklearn.feature_extraction.text import CountVectorizer\n",
    "from tqdm import tqdm\n",
    "\n",
    "nb_model = MultinomialNB()\n",
    "nb_model.fit(X_train, y_train)\n",
    "\n",
    "# vectorize the test data and predict \n",
    "X_test = vectorizer.transform(docs_test.review)\n",
    "y_hat_nb = nb_model.predict(X_test)\n",
    "\n",
    "# get accuracy score\n",
    "accuracy_score_nb = metrics.accuracy_score(y_test, y_hat_nb)\n",
    "\n",
    "# print out some data\n",
    "print(\"nb_model accuracy is : \", accuracy_score_nb)\n",
    "print(\"classification report:\\n\", metrics.classification_report(y_test, y_hat_nb))\n"
   ]
  },
  {
   "cell_type": "code",
   "execution_count": 55,
   "metadata": {},
   "outputs": [
    {
     "name": "stdout",
     "output_type": "stream",
     "text": [
      "['review', 'mention', 'watch', 'episod', 'hook', 'right', 'exactli', 'happen', 'thing', 'struck', 'brutal', 'unflinch', 'scene', 'violenc', 'set', 'right', 'word', 'trust', 'faint', 'heart', 'timid', 'pull', 'punch', 'regard', 'drug', 'sex', 'violenc', 'hardcor', 'classic', 'us', 'word', 'call', 'nicknam', 'given', 'oswald', 'maximum', 'secur', 'state', 'penitentari', 'focus', 'mainli', 'emerald', 'citi', 'experiment', 'section', 'prison', 'cell', 'glass', 'front', 'face', 'inward', 'privaci', 'high', 'agenda', 'citi', 'home', 'aryan', 'muslim', 'gangsta', 'latino', 'christian', 'italian', 'irish', 'scuffl', 'death', 'stare', 'dodgi', 'deal', 'shadi', 'agreement', 'far', 'awai', 'main', 'appeal', 'fact', 'goe', 'show', 'wouldn', 'dare', 'forget', 'pretti', 'pictur', 'paint', 'mainstream', 'audienc', 'forget', 'charm', 'forget', 'romanc', 'mess', 'episod', 'saw', 'struck', 'nasti', 'surreal', 'couldn', 'readi', 'watch', 'develop', 'tast', 'got', 'accustom', 'high', 'level', 'graphic', 'violenc', 'violenc', 'injustic', 'crook', 'guard', 'sold', 'nickel', 'inmat', 'kill', 'order', 'awai', 'manner', 'middl', 'class', 'inmat', 'turn', 'prison', 'bitch', 'lack', 'street', 'skill', 'prison', 'experi', 'watch', 'comfort', 'uncomfort', 'view', 'that', 'touch', 'darker', 'wonder', 'littl', 'product', 'film', 'techniqu', 'unassum', 'old', 'time', 'bbc', 'fashion', 'give', 'comfort', 'discomfort', 'sens', 'realism', 'entir', 'piec', 'actor', 'extrem', 'chosen', 'michael', 'sheen', 'got', 'polari', 'voic', 'pat', 'truli', 'seamless', 'edit', 'guid', 'refer', 'william', 'diari', 'entri', 'worth', 'watch', 'terrificli', 'written', 'perform', 'piec', 'master', 'product', 'great', 'master', 'comedi', 'life', 'realism', 'come', 'home', 'littl', 'thing', 'fantasi', 'guard', 'us', 'tradit', 'dream', 'techniqu', 'remain', 'solid', 'disappear', 'plai', 'knowledg', 'sens', 'particularli', 'scene', 'concern', 'orton', 'halliwel', 'set', 'particularli', 'flat', 'halliwel', 'mural', 'decor', 'surfac', 'terribl', 'thought', 'wonder', 'wai', 'spend', 'time', 'hot', 'summer', 'weekend', 'sit', 'air', 'condit', 'theater', 'watch', 'light', 'heart', 'comedi', 'plot', 'simplist', 'dialogu', 'witti', 'charact', 'likabl', 'bread', 'suspect', 'serial', 'killer', 'disappoint', 'realiz', 'match', 'point', 'risk', 'addict', 'thought', 'proof', 'woodi', 'allen', 'fulli', 'control', 'style', 'grown', 'love', 'laugh', 'woodi', 'comedi', 'year', 'dare', 'decad', 'impress', 'scarlet', 'johanson', 'manag', 'tone', 'sexi', 'imag', 'jump', 'right', 'averag', 'spirit', 'young', 'woman', 'crown', 'jewel', 'career', 'wittier', 'devil', 'wear', 'prada', 'interest', 'superman', 'great', 'comedi', 'friend', 'basic', 'famili', 'littl', 'boi', 'jake', 'think', 'zombi', 'closet', 'parent', 'fight', 'time', 'movi', 'slower', 'soap', 'opera', 'suddenli', 'jake', 'decid', 'rambo', 'kill', 'zombi', 'go', 'film', 'decid', 'thriller', 'drama', 'drama', 'movi', 'watchabl', 'parent', 'divorc', 'argu', 'like', 'real', 'life', 'jake', 'closet', 'total', 'ruin', 'film', 'expect', 'boogeyman', 'similar', 'movi', 'instead', 'watch', 'drama', 'meaningless', 'thriller', 'spot', 'plai', 'parent', 'descent', 'dialog', 'shot', 'jake', 'ignor', 'petter', 'mattei', 'love', 'time', 'monei', 'visual', 'stun', 'film', 'watch', 'mattei', 'offer', 'vivid', 'portrait', 'human', 'relat', 'movi', 'tell', 'monei', 'power', 'success', 'peopl', 'differ', 'situat', 'encount', 'variat', 'arthur', 'schnitzler', 'plai', 'theme', 'director', 'transfer', 'action', 'present', 'time', 'new', 'york', 'differ', 'charact', 'meet', 'connect', 'connect', 'wai', 'person', 'know', 'previou', 'point', 'contact', 'stylishli', 'film', 'sophist', 'luxuri', 'look', 'taken', 'peopl', 'live', 'world', 'live', 'habitat', 'thing', 'get', 'soul', 'pictur', 'differ', 'stage', 'loneli', 'inhabit', 'big', 'citi', 'exactli', 'best', 'place', 'human', 'relat', 'fulfil', 'discern', 'case', 'peopl', 'encount', 'act', 'good', 'mattei', 'direct', 'steve', 'buscemi', 'rosario', 'dawson', 'carol', 'kane', 'michael', 'imperioli', 'adrian', 'grenier', 'rest', 'talent', 'cast', 'charact', 'come', 'aliv', 'wish', 'mattei', 'good', 'luck', 'await', 'anxious', 'work', 'probabl', 'time', 'favorit', 'movi', 'stori', 'selfless', 'sacrific', 'dedic', 'nobl', 'caus', 'preachi', 'bore', 'get', 'old', 'despit', 'have', 'seen', 'time', 'year', 'paul', 'luka', 'perform', 'bring', 'tear', 'ey', 'bett', 'davi', 'truli', 'sympathet', 'role', 'delight', 'kid', 'grandma', 'sai', 'like', 'dress', 'midget', 'children', 'make', 'fun', 'watch', 'mother', 'slow', 'awaken', 'happen', 'world', 'roof', 'believ', 'startl', 'dozen', 'thumb', 'movi', 'sure', 'like', 'resurrect', 'date', 'seahunt', 'seri', 'tech', 'todai', 'bring', 'kid', 'excit', 'grew', 'black', 'white', 'seahunt', 'gunsmok', 'hero', 'week', 'vote', 'comeback', 'new', 'sea', 'hunt', 'need', 'chang', 'pace', 'work', 'world', 'water', 'adventur', 'wai', 'thank', 'outlet', 'like', 'view', 'viewpoint', 'movi', 'ol', 'wai', 'believ', 'got', 'wanna', 'nice', 'read', 'plu', 'point', 'sea', 'hunt', 'rhyme', 'line', 'let', 'submit', 'leav', 'doubt', 'quit', 'let', 'amaz', 'fresh', 'innov', 'idea', 'air', 'year', 'brilliant', 'thing', 'drop', 'funni', 'anymor', 'continu', 'declin', 'complet', 'wast', 'time', 'todai', 'truli', 'disgrac', 'far', 'fallen', 'write', 'painfulli', 'bad', 'perform', 'bad', 'mildli', 'entertain', 'respit', 'guest', 'host', 'probabl', 'wouldn', 'air', 'hard', 'believ', 'creator', 'hand', 'select', 'origin', 'cast', 'chose', 'band', 'hack', 'follow', 'recogn', 'brillianc', 'fit', 'replac', 'mediocr', 'felt', 'star', 'respect', 'origin', 'cast', 'huge', 'success', 'aw', 'believ', 'air', 'encourag', 'posit', 'comment', 'film', 'look', 'forward', 'watch', 'film', 'bad', 'mistak', 'seen', 'film', 'truli', 'worst', 'aw', 'wai', 'edit', 'pace', 'storylin', 'act', 'soundtrack', 'film', 'song', 'lame', 'countri', 'tune', 'plai', 'time', 'film', 'look', 'cheap', 'nasti', 'bore', 'extrem', 'rare', 'happi', 'end', 'credit', 'film', 'thing', 'prevent', 'give', 'score', 'harvei', 'keitel', 'far', 'best', 'perform', 'make', 'bit', 'effort', 'keitel', 'obsess', 'like', 'origin', 'gut', 'wrench', 'laughter', 'like', 'movi', 'young', 'old', 'love', 'movi', 'hell', 'mom', 'like', 'great', 'camp']\n",
      "\n",
      "\n",
      "['if you like original gut wrenching laughter you will like this movie.', 'if you are young or old then you will love this movie, hell even my mom liked it.<br /><br />great camp!!', '!']\n"
     ]
    },
    {
     "data": {
      "text/plain": [
       "'\\nfor review in df[:10][\"review\"]:\\n    sentences = nltk.sent_tokenize(review)\\n    for sentence in sentences:\\n        tokenized.append(nltk.word_tokenize(sentence))\\nfor mylist in tokenized:    \\n    for myword in mylist:\\n        words.append(myword)\\n#print(words)\\n\\nstemmer = PorterStemmer()\\nstems = [stemmer.stem(w) for w in words]\\nprint(\\' \\'.join(stems))\\n'"
      ]
     },
     "execution_count": 55,
     "metadata": {},
     "output_type": "execute_result"
    }
   ],
   "source": [
    "import nltk\n",
    "import gensim\n",
    "from gensim.utils import simple_preprocess\n",
    "from gensim.parsing.preprocessing import preprocess_string\n",
    "from gensim.parsing.preprocessing import STOPWORDS\n",
    "from nltk.stem.porter import *\n",
    "import numpy as np\n",
    "\n",
    "sentList = []\n",
    "words = []\n",
    "for review in df[:10][\"review\"]:\n",
    "    sentences = nltk.sent_tokenize(review)\n",
    "    str1 = ''.join(sentences)\n",
    "    sentences = preprocess_string(str1)\n",
    "    sentList.append(sentences)\n",
    "    \n",
    "for mylist in sentList:    \n",
    "    for myword in mylist:\n",
    "        words.append(myword)\n",
    "\n",
    "print(words)\n",
    "print(\"\\n\")\n",
    "\n",
    "for review in df[:100][\"review\"]:\n",
    "    sentences = nltk.sent_tokenize(review)   \n",
    "print(sentences)\n",
    "\n",
    "\n",
    "\"\"\"\n",
    "for review in df[:10][\"review\"]:\n",
    "    sentences = nltk.sent_tokenize(review)\n",
    "    for sentence in sentences:\n",
    "        tokenized.append(nltk.word_tokenize(sentence))\n",
    "for mylist in tokenized:    \n",
    "    for myword in mylist:\n",
    "        words.append(myword)\n",
    "#print(words)\n",
    "\n",
    "stemmer = PorterStemmer()\n",
    "stems = [stemmer.stem(w) for w in words]\n",
    "print(' '.join(stems))\n",
    "\"\"\"\n"
   ]
  },
  {
   "cell_type": "code",
   "execution_count": 65,
   "metadata": {
    "colab": {},
    "colab_type": "code",
    "id": "CZTcUXupPz0B"
   },
   "outputs": [
    {
     "name": "stdout",
     "output_type": "stream",
     "text": [
      "['one', 'of', 'the', 'other', 'reviewers', 'has', 'mentioned', 'that', 'after', 'watching', 'just', '1', 'oz', 'episode', \"you'll\", 'be', 'hooked.', 'they', 'are', 'right,', 'as', 'this', 'is', 'exactly', 'what', 'happened', 'with', 'me.<br', '/><br', '/>the', 'first', 'thing', 'struck', 'me', 'about', 'was', 'its', 'brutality', 'and', 'unflinching', 'scenes', 'violence,', 'which', 'set', 'in', 'right', 'from', 'word', 'go.', 'trust', 'me,', 'not', 'a', 'show', 'for', 'faint', 'hearted', 'or', 'timid.', 'pulls', 'no', 'punches', 'regards', 'to', 'drugs,', 'sex', 'violence.', 'hardcore,', 'classic', 'use', 'word.<br', '/>it', 'called', 'nickname', 'given', 'oswald', 'maximum', 'security', 'state', 'penitentary.', 'it', 'focuses', 'mainly', 'on', 'emerald', 'city,', 'an', 'experimental', 'section', 'prison', 'where', 'all', 'cells', 'have', 'glass', 'fronts', 'face', 'inwards,', 'so', 'privacy', 'high', 'agenda.', 'em', 'city', 'home', 'many..aryans,', 'muslims,', 'gangstas,', 'latinos,', 'christians,', 'italians,', 'irish', 'more....so', 'scuffles,', 'death', 'stares,', 'dodgy', 'dealings', 'shady', 'agreements', 'never', 'far', 'away.<br', '/>i', 'would', 'say', 'main', 'appeal', 'due', 'fact', 'goes', 'shows', \"wouldn't\", 'dare.', 'forget', 'pretty', 'pictures', 'painted', 'mainstream', 'audiences,', 'charm,', 'romance...oz', \"doesn't\", 'mess', 'around.', 'i', 'ever', 'saw', 'nasty', 'surreal,', \"couldn't\", 'ready', 'it,', 'but', 'watched', 'more,', 'developed', 'taste', 'oz,', 'got', 'accustomed', 'levels', 'graphic', 'injustice', '(crooked', 'guards', \"who'll\", 'sold', 'out', 'nickel,', 'inmates', 'kill', 'order', 'get', 'away', 'well', 'mannered,', 'middle', 'class', 'being', 'turned', 'into', 'bitches', 'their', 'lack', 'street', 'skills', 'experience)', 'you', 'may', 'become', 'comfortable', 'uncomfortable', 'viewing....thats', 'if', 'can', 'touch', 'your', 'darker', 'side.', 'wonderful', 'little', 'production.', '<br', 'filming', 'technique', 'very', 'unassuming-', 'old-time-bbc', 'fashion', 'gives', 'comforting,', 'sometimes', 'discomforting,', 'sense', 'realism', 'entire', 'piece.', 'actors', 'extremely', 'chosen-', 'michael', 'sheen', 'only', '\"has', 'polari\"', 'he', 'voices', 'down', 'pat', 'too!', 'truly', 'see', 'seamless', 'editing', 'guided', 'by', 'references', \"williams'\", 'diary', 'entries,', 'worth', 'terrificly', 'written', 'performed', 'masterful', 'production', 'great', \"master's\", 'comedy', 'his', 'life.', 'really', 'comes', 'things:', 'fantasy', 'guard', 'which,', 'rather', 'than', 'traditional', \"'dream'\", 'techniques', 'remains', 'solid', 'then', 'disappears.', 'plays', 'our', 'knowledge', 'senses,', 'particularly', 'concerning', 'orton', 'halliwell', 'sets', '(particularly', 'flat', \"halliwell's\", 'murals', 'decorating', 'every', 'surface)', 'terribly', 'done.', 'thought', 'way', 'spend', 'time', 'too', 'hot', 'summer', 'weekend,', 'sitting', 'air', 'conditioned', 'theater', 'light-hearted', 'comedy.', 'plot', 'simplistic,', 'dialogue', 'witty', 'characters', 'likable', '(even', 'bread', 'suspected', 'serial', 'killer).', 'while', 'some', 'disappointed', 'when', 'realize', 'match', 'point', '2:', 'risk', 'addiction,', 'proof', 'woody', 'allen', 'still', 'fully', 'control', 'style', 'many', 'us', 'grown', 'love.<br', '/>this', 'most', \"i'd\", 'laughed', 'at', \"woody's\", 'comedies', 'years', '(dare', 'decade?).', \"i've\", 'been', 'impressed', 'scarlet', 'johanson,', 'she', 'managed', 'tone', 'her', '\"sexy\"', 'image', 'jumped', 'average,', 'spirited', 'young', 'woman.<br', 'crown', 'jewel', 'career,', 'wittier', '\"devil', 'wears', 'prada\"', 'more', 'interesting', '\"superman\"', 'go', 'friends.', 'basically', \"there's\", 'family', 'boy', '(jake)', 'thinks', 'zombie', 'closet', '&', 'parents', 'fighting', 'time.<br', 'movie', 'slower', 'soap', 'opera...', 'suddenly,', 'jake', 'decides', 'rambo', 'zombie.<br', '/>ok,', \"you're\", 'going', 'make', 'film', 'must', 'decide', 'thriller', 'drama!', 'drama', 'watchable.', 'divorcing', 'arguing', 'like', 'real', 'we', 'totally', 'ruins', 'film!', 'expected', 'boogeyman', 'similar', 'movie,', 'instead', 'meaningless', 'spots.<br', '/>3', '10', 'playing', 'descent', 'dialogs.', 'shots', 'jake:', 'ignore', 'them.', 'petter', \"mattei's\", '\"love', 'money\"', 'visually', 'stunning', 'watch.', 'mr.', 'mattei', 'offers', 'vivid', 'portrait', 'human', 'relations.', 'seems', 'telling', 'money,', 'power', 'success', 'do', 'people', 'different', 'situations', 'encounter.', 'variation', 'arthur', \"schnitzler's\", 'play', 'same', 'theme,', 'director', 'transfers', 'action', 'present', 'new', 'york', 'these', 'meet', 'connect.', 'each', 'connected', 'way,', 'another', 'next', 'person,', 'know', 'previous', 'contact.', 'stylishly,', 'sophisticated', 'luxurious', 'look.', 'taken', 'how', 'live', 'world', 'own', 'habitat.<br', 'gets', 'souls', 'picture', 'stages', 'loneliness', 'inhabits.', 'big', 'best', 'place', 'relations', 'find', 'sincere', 'fulfillment,', 'discerns', 'case', 'encounter.<br', 'acting', 'good', 'under', 'direction.', 'steve', 'buscemi,', 'rosario', 'dawson,', 'carol', 'kane,', 'imperioli,', 'adrian', 'grenier,', 'rest', 'talented', 'cast,', 'come', 'alive.<br', '/>we', 'wish', 'luck', 'await', 'anxiously', 'work.', 'probably', 'my', 'all-time', 'favorite', 'story', 'selflessness,', 'sacrifice', 'dedication', 'noble', 'cause,', \"it's\", 'preachy', 'boring.', 'old,', 'despite', 'having', 'seen', '15', 'times', 'last', '25', 'years.', 'paul', \"lukas'\", 'performance', 'brings', 'tears', 'eyes,', 'bette', 'davis,', 'few', 'sympathetic', 'roles,', 'delight.', 'kids', 'are,', 'grandma', 'says,', '\"dressed-up', 'midgets\"', 'children,', 'makes', 'them', 'fun', \"mother's\", 'slow', 'awakening', \"what's\", 'happening', 'roof', 'believable', 'startling.', 'had', 'dozen', 'thumbs,', \"they'd\", '\"up\"', 'movie.', 'sure', 'resurrection', 'up', 'dated', 'seahunt', 'series', 'tech', 'today', 'bring', 'back', 'kid', 'excitement', 'me.i', 'grew', 'black', 'white', 'tv', 'gunsmoke', 'were', \"hero's\", 'week.you', 'vote', 'comeback', 'sea', 'hunt.we', 'need', 'change', 'pace', 'work', 'water', 'adventure.oh', 'thank', 'outlet', 'view', 'viewpoints', 'movies.so', 'any', 'ole', 'believe', 'wanna', 'say.would', 'nice', 'read', 'plus', 'points', 'hunt.if', 'rhymes', 'lines', 'let', 'submit,or', 'leave', 'doubt', 'quit,if', 'lets', 'it.', 'amazing,', 'fresh', 'innovative', 'idea', \"70's\", 'aired.', '7', '8', 'brilliant,', 'things', 'dropped', 'off', 'that.', '1990,', 'funny', 'anymore,', 'continued', 'decline', 'further', 'complete', 'waste', 'today.<br', \"/>it's\", 'disgraceful', 'fallen.', 'writing', 'painfully', 'bad,', 'performances', 'almost', 'bad', '-', 'mildly', 'entertaining', 'respite', 'guest-hosts,', 'air.', 'hard', 'creator', 'hand-selected', 'original', 'cast', 'also', 'chose', 'band', 'hacks', 'followed.', 'recognize', 'such', 'brilliance', 'fit', 'replace', 'mediocrity?', 'felt', 'give', '2', 'stars', 'respect', 'made', 'huge', 'success.', 'now,', 'awful.', \"can't\", 'encouraged', 'positive', 'comments', 'here', 'looking', 'forward', 'film.', 'mistake.', '950+', 'films', 'worst', 'awful', 'way:', 'editing,', 'pacing,', 'storyline,', \"'acting,'\", 'soundtrack', '(the', \"film's\", 'song', 'lame', 'country', 'tune', 'played', 'less', 'four', 'times).', 'looks', 'cheap', 'boring', 'extreme.', 'rarely', 'happy', 'end', 'credits', 'prevents', 'giving', '1-score', 'harvey', 'keitel', 'least', 'making', 'bit', 'effort.', 'obsessives', 'only.', 'gut', 'wrenching', 'laughter', 'will', 'old', 'love', 'hell', 'even', 'mom', 'liked', 'it.<br', '/>great', 'camp!!!']\n",
      "Wall time: 126 ms\n"
     ]
    }
   ],
   "source": [
    "%%time\n",
    "## create word2vec model\n",
    "\n",
    "from gensim.models import Word2Vec\n",
    "from gensim.models import KeyedVectors\n",
    "\n",
    "corpus_text = '\\n'.join(df[:10]['review'])\n",
    "sentences = corpus_text.split('\\n')\n",
    "sentences = [line.lower().split(' ') for line in sentences]\n",
    "\n",
    "model = Word2Vec(sentences, size=100,  min_count=1) \n",
    "# change min count later\n",
    "#print(model)\n",
    "\n",
    "# summarize vocabulary\n",
    "words = list(model.wv.vocab)\n",
    "print(words)\n",
    "\n",
    "# to review embedded vector for a specific token:\n",
    "# print(model.wv[<<INSERT TOKEN>>])"
   ]
  },
  {
   "cell_type": "code",
   "execution_count": 66,
   "metadata": {},
   "outputs": [
    {
     "name": "stdout",
     "output_type": "stream",
     "text": [
      "Word2Vec(vocab=760, size=100, alpha=0.025)\n"
     ]
    }
   ],
   "source": [
    "# save word2vec model\n",
    "# saved in a binary format to save space.\n",
    "\n",
    "model.save('model.bin')\n",
    "\n",
    "# load model\n",
    "new_model = Word2Vec.load('model.bin')\n",
    "print(new_model)"
   ]
  },
  {
   "cell_type": "code",
   "execution_count": 67,
   "metadata": {},
   "outputs": [
    {
     "name": "stderr",
     "output_type": "stream",
     "text": [
      "C:\\Users\\hueyq\\Anaconda3\\lib\\site-packages\\ipykernel_launcher.py:6: DeprecationWarning: Call to deprecated `__getitem__` (Method will be removed in 4.0.0, use self.wv.__getitem__() instead).\n",
      "  \n"
     ]
    },
    {
     "data": {
      "image/png": "[encoded data removed]",
      "text/plain": [
       "<Figure size 432x288 with 1 Axes>"
      ]
     },
     "metadata": {
      "needs_background": "light"
     },
     "output_type": "display_data"
    }
   ],
   "source": [
    "# plot word2vec model using PCA\n",
    "\n",
    "from sklearn.decomposition import PCA\n",
    "from matplotlib import pyplot\n",
    "\n",
    "X = model[model.wv.vocab]\n",
    "\n",
    "# fit a 2d PCA model to the vectors\n",
    "pca = PCA(n_components=2)\n",
    "result = pca.fit_transform(X)\n",
    "\n",
    "# create a scatter plot of the projection\n",
    "pyplot.scatter(result[:, 0], result[:, 1])\n",
    "words = list(model.wv.vocab)\n",
    "for i, word in enumerate(words):\n",
    "    pyplot.annotate(word, xy=(result[i, 0], result[i, 1]))\n",
    "pyplot.show()"
   ]
  },
  {
   "cell_type": "code",
   "execution_count": 68,
   "metadata": {},
   "outputs": [
    {
     "data": {
      "text/plain": [
       "[('scenes', 0.3283243775367737),\n",
       " ('focuses', 0.3235659897327423),\n",
       " ('film.', 0.28517013788223267),\n",
       " ('story', 0.2773726284503937),\n",
       " ('times', 0.2457817792892456),\n",
       " ('shots', 0.2306016981601715),\n",
       " ('looking', 0.2259206920862198),\n",
       " ('submit,or', 0.22107434272766113),\n",
       " ('no', 0.21581119298934937),\n",
       " ('fit', 0.21097147464752197)]"
      ]
     },
     "execution_count": 68,
     "metadata": {},
     "output_type": "execute_result"
    }
   ],
   "source": [
    "# fun results with word2vec\n",
    "\n",
    "word = \"funny\"\n",
    "model.wv.most_similar(positive = word)\n",
    "\n",
    "# this seems to be working wrongly......?????"
   ]
  },
  {
   "cell_type": "code",
   "execution_count": null,
   "metadata": {},
   "outputs": [],
   "source": []
  }
 ],
 "metadata": {
  "colab": {
   "collapsed_sections": [],
   "include_colab_link": true,
   "name": "SentimentAnalysis_MovieReviews.ipynb",
   "provenance": []
  },
  "kernelspec": {
   "display_name": "Python 3",
   "language": "python",
   "name": "python3"
  },
  "language_info": {
   "codemirror_mode": {
    "name": "ipython",
    "version": 3
   },
   "file_extension": ".py",
   "mimetype": "text/x-python",
   "name": "python",
   "nbconvert_exporter": "python",
   "pygments_lexer": "ipython3",
   "version": "3.7.4"
  }
 },
 "nbformat": 4,
 "nbformat_minor": 1
}
